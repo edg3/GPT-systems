{
 "cells": [
  {
   "cell_type": "markdown",
   "id": "54480c1e",
   "metadata": {},
   "source": [
    "# Version 1: Train GPT2\n",
    "\n",
    "## Plan:\n",
    "\n",
    "Train GPT2 on the text off of the **Godot 4.3** documentation for 5 epochs, then test the model.\n",
    "\n",
    "### System Used\n",
    "\n",
    "This was done on older desktop hardware. Windows 10, WSL Ubuntu 22.04, i7 processor, Radeon 3050 8Gb OC, 16Gb RAM.\n",
    "\n",
    "### Warning:\n",
    "\n",
    "**Things are changing regularly, and you will see warnings (if this still runs), mostly to do with deprecation. This means, eventually, one day this code will need changes/updates/rewrites.**"
   ]
  },
  {
   "cell_type": "markdown",
   "id": "9f3a1e7d",
   "metadata": {},
   "source": [
    "### Base Code Use\n",
    "\n",
    "Used as a starter: [311_fine_tuning_GPT2.ipynb](https://github.com/bnsreenu/python_for_microscopists/blob/master/311_fine_tuning_GPT2.ipynb)\n",
    "\n",
    "Note: ```--break-system-packages``` is required for my customised WSL2 instance."
   ]
  },
  {
   "cell_type": "markdown",
   "id": "072d1f12",
   "metadata": {},
   "source": [
    "## Step 1: Packages"
   ]
  },
  {
   "cell_type": "code",
   "execution_count": null,
   "id": "dad8484f",
   "metadata": {},
   "outputs": [],
   "source": [
    "!pip install -q transformers torch datasets python-docx --break-system-packages"
   ]
  },
  {
   "cell_type": "code",
   "execution_count": null,
   "id": "5d23d616",
   "metadata": {},
   "outputs": [],
   "source": [
    "!pip install -qU PyPDF2 --break-system-packages"
   ]
  },
  {
   "cell_type": "code",
   "execution_count": 1,
   "id": "fb37686c",
   "metadata": {},
   "outputs": [],
   "source": [
    "import pandas as pd\n",
    "import numpy as np\n",
    "import re\n",
    "from PyPDF2 import PdfReader\n",
    "import os\n",
    "import docx"
   ]
  },
  {
   "cell_type": "markdown",
   "id": "6e0e4a1e",
   "metadata": {},
   "source": [
    "## Step 2: Define file text extract"
   ]
  },
  {
   "cell_type": "code",
   "execution_count": null,
   "id": "b73a4968",
   "metadata": {},
   "outputs": [],
   "source": [
    "# Functions to read different file types\n",
    "def read_pdf(file_path):\n",
    "    with open(file_path, \"rb\") as file:\n",
    "        pdf_reader = PdfReader(file)\n",
    "        text = \"\"\n",
    "        for page_num in range(len(pdf_reader.pages)):\n",
    "            text += pdf_reader.pages[page_num].extract_text()\n",
    "    return text\n",
    "\n",
    "def read_word(file_path):\n",
    "    doc = docx.Document(file_path)\n",
    "    text = \"\"\n",
    "    for paragraph in doc.paragraphs:\n",
    "        text += paragraph.text + \"\\n\"\n",
    "    return text\n",
    "\n",
    "def read_txt(file_path):\n",
    "    with open(file_path, \"r\") as file:\n",
    "        text = file.read()\n",
    "    return text\n",
    "\n",
    "def read_documents_from_directory(directory):\n",
    "    combined_text = \"\"\n",
    "    for filename in os.listdir(directory):\n",
    "        file_path = os.path.join(directory, filename)\n",
    "        if filename.endswith(\".pdf\"):\n",
    "            combined_text += read_pdf(file_path)\n",
    "        elif filename.endswith(\".docx\"):\n",
    "            combined_text += read_word(file_path)\n",
    "        elif filename.endswith(\".txt\"):\n",
    "            combined_text += read_txt(file_path)\n",
    "    return combined_text"
   ]
  },
  {
   "cell_type": "markdown",
   "id": "9248e9f7",
   "metadata": {},
   "source": [
    "## Step 3: Prepare text Godot 4.3 Text (sample version)"
   ]
  },
  {
   "cell_type": "markdown",
   "id": "64f73a17",
   "metadata": {},
   "source": [
    "Got ```godot-docs``` through ```https://docs.godotengine.org/en/stable/index.html``` using the ```stable``` variety. As of today it's ```319mb```.\n",
    "\n",
    "Extract contents into ```godot-docs-html-stable``` then run below to extract data from the html (dirty formatting for v1).\n",
    "\n",
    "**Time Required:** ~4min"
   ]
  },
  {
   "cell_type": "code",
   "execution_count": null,
   "id": "ac6a9792",
   "metadata": {},
   "outputs": [],
   "source": [
    "%%time\n",
    "# Convert html files recursively into txt files without format\n",
    "import os\n",
    "from bs4 import BeautifulSoup\n",
    "\n",
    "def convert_html_to_txt(html_file_path, txt_file_path):\n",
    "    with open(html_file_path, 'r', encoding='utf-8') as html_file:\n",
    "        soup = BeautifulSoup(html_file, 'html.parser')\n",
    "        text = soup.get_text()\n",
    "        \n",
    "    with open(txt_file_path, 'w', encoding='utf-8') as txt_file:\n",
    "        txt_file.write(text)\n",
    "\n",
    "def process_folder(input_folder, output_folder):\n",
    "    if not os.path.exists(output_folder):\n",
    "        os.makedirs(output_folder)\n",
    "    \n",
    "    for root, _, files in os.walk(input_folder):\n",
    "        for file in files:\n",
    "            if file.endswith('.html'):\n",
    "                #print('processing:',file)\n",
    "                html_file_path = os.path.join(root, file)\n",
    "                relative_path = os.path.relpath(html_file_path, input_folder)\n",
    "                txt_file_path = os.path.join(output_folder, os.path.splitext(relative_path)[0] + '.txt')\n",
    "                splt_path = txt_file_path.split('/')\n",
    "                #print(splt_path[-1])\n",
    "                splt_path[-1] = splt_path[-2] + '-' + splt_path[-1]\n",
    "                convert_html_to_txt(html_file_path, output_folder + '/' + splt_path[-1])\n",
    "            else:\n",
    "                print(' - skipped:',file)\n",
    "\n",
    "input_folder = 'godot-docs-html-stable/tutorials'\n",
    "output_folder = 'godot-docs-text'\n",
    "\n",
    "process_folder(input_folder, output_folder)"
   ]
  },
  {
   "cell_type": "markdown",
   "id": "7f122dbf",
   "metadata": {},
   "source": [
    "## Step 4: Trim excess whitespace"
   ]
  },
  {
   "cell_type": "code",
   "execution_count": null,
   "id": "ecbd9891",
   "metadata": {},
   "outputs": [],
   "source": [
    "# Read documents from the directory\n",
    "train_directory = output_folder\n",
    "text_data = read_documents_from_directory(train_directory)\n",
    "text_data = re.sub(r'\\n+', '\\n', text_data).strip()  # Remove excess newline characters"
   ]
  },
  {
   "cell_type": "code",
   "execution_count": null,
   "id": "d679ea64",
   "metadata": {},
   "outputs": [],
   "source": [
    "print(text_data[0:200],'...')"
   ]
  },
  {
   "cell_type": "markdown",
   "id": "c2d8274c",
   "metadata": {},
   "source": [
    "*Uncomment this with train.txt removed to write a new train.txt*"
   ]
  },
  {
   "cell_type": "code",
   "execution_count": null,
   "id": "a4cf852c",
   "metadata": {},
   "outputs": [],
   "source": [
    "## Only needed once off if you have the data\n",
    "#with open(\"./train.txt\", \"w\") as f:\n",
    "#    f.write(text_data)"
   ]
  },
  {
   "cell_type": "markdown",
   "id": "a976136b",
   "metadata": {},
   "source": [
    "### 4.1: Minimised train.txt"
   ]
  },
  {
   "cell_type": "code",
   "execution_count": 2,
   "id": "411f4fa0",
   "metadata": {},
   "outputs": [],
   "source": [
    "def filter_lines(input_file, output_file):\n",
    "    with open(input_file, 'r') as file:\n",
    "        lines = file.readlines()\n",
    "\n",
    "    with open(output_file, 'w') as file:\n",
    "        for line in lines:\n",
    "            if len(line.strip()) > 30:\n",
    "                file.write(line)\n",
    "\n",
    "# Example usage\n",
    "input_file = 'train.txt'\n",
    "output_file = 'train-minimised.txt'\n",
    "filter_lines(input_file, output_file)"
   ]
  },
  {
   "cell_type": "markdown",
   "id": "f7b453f7",
   "metadata": {},
   "source": [
    "## Step 5: Setup training functions"
   ]
  },
  {
   "cell_type": "code",
   "execution_count": 2,
   "id": "3fa06f36",
   "metadata": {},
   "outputs": [
    {
     "name": "stderr",
     "output_type": "stream",
     "text": [
      "2024-10-06 18:16:17.659015: E external/local_xla/xla/stream_executor/cuda/cuda_fft.cc:485] Unable to register cuFFT factory: Attempting to register factory for plugin cuFFT when one has already been registered\n",
      "2024-10-06 18:16:17.674707: E external/local_xla/xla/stream_executor/cuda/cuda_dnn.cc:8454] Unable to register cuDNN factory: Attempting to register factory for plugin cuDNN when one has already been registered\n",
      "2024-10-06 18:16:17.678955: E external/local_xla/xla/stream_executor/cuda/cuda_blas.cc:1452] Unable to register cuBLAS factory: Attempting to register factory for plugin cuBLAS when one has already been registered\n",
      "2024-10-06 18:16:17.690343: I tensorflow/core/platform/cpu_feature_guard.cc:210] This TensorFlow binary is optimized to use available CPU instructions in performance-critical operations.\n",
      "To enable the following instructions: AVX2 FMA, in other operations, rebuild TensorFlow with the appropriate compiler flags.\n",
      "2024-10-06 18:16:24.067843: W tensorflow/compiler/tf2tensorrt/utils/py_utils.cc:38] TF-TRT Warning: Could not find TensorRT\n"
     ]
    }
   ],
   "source": [
    "from transformers import TextDataset, DataCollatorForLanguageModeling\n",
    "from transformers import GPT2Tokenizer, GPT2LMHeadModel\n",
    "from transformers import Trainer, TrainingArguments"
   ]
  },
  {
   "cell_type": "code",
   "execution_count": 3,
   "id": "44c68a74",
   "metadata": {},
   "outputs": [],
   "source": [
    "def load_dataset(file_path, tokenizer, block_size = 128):\n",
    "    dataset = TextDataset(\n",
    "        tokenizer = tokenizer,\n",
    "        file_path = file_path,\n",
    "        block_size = block_size,\n",
    "    )\n",
    "    return dataset"
   ]
  },
  {
   "cell_type": "code",
   "execution_count": 4,
   "id": "abf986c8",
   "metadata": {},
   "outputs": [],
   "source": [
    "def load_data_collator(tokenizer, mlm = False):\n",
    "    data_collator = DataCollatorForLanguageModeling(\n",
    "        tokenizer=tokenizer, \n",
    "        mlm=mlm,\n",
    "    )\n",
    "    return data_collator"
   ]
  },
  {
   "cell_type": "code",
   "execution_count": 5,
   "id": "c566c8f3",
   "metadata": {},
   "outputs": [],
   "source": [
    "def train(train_file_path,model_name,\n",
    "          output_dir,\n",
    "          overwrite_output_dir,\n",
    "          per_device_train_batch_size,\n",
    "          num_train_epochs,\n",
    "          save_steps):\n",
    "  tokenizer = GPT2Tokenizer.from_pretrained(model_name)\n",
    "  train_dataset = load_dataset(train_file_path, tokenizer)\n",
    "  data_collator = load_data_collator(tokenizer)\n",
    "\n",
    "  tokenizer.save_pretrained(output_dir)\n",
    "      \n",
    "  model = GPT2LMHeadModel.from_pretrained(model_name)\n",
    "\n",
    "  model.save_pretrained(output_dir)\n",
    "\n",
    "  training_args = TrainingArguments(\n",
    "          output_dir=output_dir,\n",
    "          overwrite_output_dir=overwrite_output_dir,\n",
    "          per_device_train_batch_size=per_device_train_batch_size,\n",
    "          num_train_epochs=num_train_epochs,\n",
    "      )\n",
    "\n",
    "  trainer = Trainer(\n",
    "          model=model,\n",
    "          args=training_args,\n",
    "          data_collator=data_collator,\n",
    "          train_dataset=train_dataset,\n",
    "  )\n",
    "      \n",
    "  trainer.train()\n",
    "  trainer.save_model()"
   ]
  },
  {
   "cell_type": "markdown",
   "id": "dd5a3add",
   "metadata": {},
   "source": [
    "## Step 6: Specify Training Arguments"
   ]
  },
  {
   "cell_type": "code",
   "execution_count": 6,
   "id": "c13d378c",
   "metadata": {},
   "outputs": [],
   "source": [
    "train_file_path = \"./train-manual.txt\"\n",
    "model_name = 'gpt2'\n",
    "output_dir = './model'\n",
    "overwrite_output_dir = True\n",
    "per_device_train_batch_size = 8\n",
    "num_train_epochs = 5.0\n",
    "save_steps = 50000"
   ]
  },
  {
   "cell_type": "markdown",
   "id": "f7255d17",
   "metadata": {},
   "source": [
    "#### Step 6.1: I didn't want to use WANDB, this is how you disable it:"
   ]
  },
  {
   "cell_type": "code",
   "execution_count": 7,
   "id": "3ecdccdb",
   "metadata": {},
   "outputs": [],
   "source": [
    "# I didn't want to use wandb\n",
    "os.environ['WANDB_DISABLED'] = 'true'"
   ]
  },
  {
   "cell_type": "markdown",
   "id": "17a6d127",
   "metadata": {},
   "source": [
    "## Step 7: Run the training\n",
    "\n",
    "*Note: on my desktop the 5 epochs was what I felt like trying out, ~it shared it would take around 5 hours at the start~ ~the minimised data shared it would take 45 minutes~ manual first test mode, without much in training, took 8 seconds.*\n",
    "\n",
    "Minimised data is super messy, I need to format training data way better. This will likely give hulucinations that are similar to what I'm looking for.\n",
    "\n",
    "Also used:\n",
    "\n",
    "- ```git lfs track \"*.safetensors\"```\n",
    "- ```git lfs track \"*.gguf\"```\n",
    "\n",
    "This was for a later stage if I want to upload them to my repo."
   ]
  },
  {
   "cell_type": "code",
   "execution_count": 8,
   "id": "3d74cc47",
   "metadata": {},
   "outputs": [
    {
     "name": "stderr",
     "output_type": "stream",
     "text": [
      "/home/edg3/.local/lib/python3.12/site-packages/transformers/data/datasets/language_modeling.py:53: FutureWarning: This dataset will be removed from the library soon, preprocessing should be handled with the 🤗 Datasets library. You can have a look at this example script for pointers: https://github.com/huggingface/transformers/blob/main/examples/pytorch/language-modeling/run_mlm.py\n",
      "  warnings.warn(\n",
      "Using the `WANDB_DISABLED` environment variable is deprecated and will be removed in v5. Use the --report_to flag to control the integrations used for logging result (for instance --report_to none).\n"
     ]
    },
    {
     "data": {
      "text/html": [
       "\n",
       "    <div>\n",
       "      \n",
       "      <progress value='35' max='35' style='width:300px; height:20px; vertical-align: middle;'></progress>\n",
       "      [35/35 00:21, Epoch 5/5]\n",
       "    </div>\n",
       "    <table border=\"1\" class=\"dataframe\">\n",
       "  <thead>\n",
       " <tr style=\"text-align: left;\">\n",
       "      <th>Step</th>\n",
       "      <th>Training Loss</th>\n",
       "    </tr>\n",
       "  </thead>\n",
       "  <tbody>\n",
       "  </tbody>\n",
       "</table><p>"
      ],
      "text/plain": [
       "<IPython.core.display.HTML object>"
      ]
     },
     "metadata": {},
     "output_type": "display_data"
    }
   ],
   "source": [
    "# Train\n",
    "train(\n",
    "    train_file_path=train_file_path,\n",
    "    model_name=model_name,\n",
    "    output_dir=output_dir,\n",
    "    overwrite_output_dir=overwrite_output_dir,\n",
    "    per_device_train_batch_size=per_device_train_batch_size,\n",
    "    num_train_epochs=num_train_epochs,\n",
    "    save_steps=save_steps\n",
    ")"
   ]
  },
  {
   "cell_type": "markdown",
   "id": "cbc1f717",
   "metadata": {},
   "source": [
    "*Note: Kernel restart once here, then did Step 8. This was to free up GPU memory for the tests below.*"
   ]
  },
  {
   "cell_type": "markdown",
   "id": "18b65cd2",
   "metadata": {},
   "source": [
    "## Step 8: Test The Model\n",
    "\n",
    "*Warning: This data isn't likely to give the style of answers we would love to have, but the plan is to test if the idea I'm working on will succeed, or not. If the answers below hint at it being possible,* **Version 2** *will follow this starting structure with my idea of a revamp.*"
   ]
  },
  {
   "cell_type": "code",
   "execution_count": 9,
   "id": "8be68b7c",
   "metadata": {},
   "outputs": [],
   "source": [
    "from transformers import PreTrainedTokenizerFast, GPT2LMHeadModel, GPT2TokenizerFast, GPT2Tokenizer"
   ]
  },
  {
   "cell_type": "code",
   "execution_count": 10,
   "id": "311f209e",
   "metadata": {},
   "outputs": [],
   "source": [
    "def load_model(model_path):\n",
    "    model = GPT2LMHeadModel.from_pretrained(model_path)\n",
    "    return model\n",
    "\n",
    "\n",
    "def load_tokenizer(tokenizer_path):\n",
    "    tokenizer = GPT2Tokenizer.from_pretrained(tokenizer_path)\n",
    "    return tokenizer\n",
    "\n",
    "model1_path = \"./model\"\n",
    "max_length = 512\n",
    "\n",
    "model = load_model(model1_path)\n",
    "tokenizer = load_tokenizer(model1_path)\n",
    "\n",
    "def generate_text(sequence):\n",
    "    ids = tokenizer.encode(f'{sequence}', return_tensors='pt')\n",
    "    final_outputs = model.generate(\n",
    "        ids,\n",
    "        do_sample=True,\n",
    "        max_length=max_length,\n",
    "        pad_token_id=model.config.eos_token_id,\n",
    "        top_k=50,\n",
    "        top_p=0.95,\n",
    "    )\n",
    "    print(tokenizer.decode(final_outputs[0], skip_special_tokens=True))"
   ]
  },
  {
   "cell_type": "code",
   "execution_count": 11,
   "id": "70d4fbc3",
   "metadata": {},
   "outputs": [],
   "source": [
    "def Query(question1):\n",
    "    generate_text(model1_path)"
   ]
  },
  {
   "cell_type": "markdown",
   "id": "aeff8758",
   "metadata": {},
   "source": [
    "### 8.1: What’s new in Godot 4.3 compared to previous versions?"
   ]
  },
  {
   "cell_type": "code",
   "execution_count": 12,
   "id": "fd310e57",
   "metadata": {},
   "outputs": [
    {
     "name": "stderr",
     "output_type": "stream",
     "text": [
      "The attention mask is not set and cannot be inferred from input because pad token is same as eos token. As a consequence, you may observe unexpected behavior. Please pass your input's `attention_mask` to obtain reliable results.\n"
     ]
    },
    {
     "name": "stdout",
     "output_type": "stream",
     "text": [
      "What’s new in Godot 4.3 compared to previous versions? You can get an answer with our main post. The Godot Engine tutorial for the new tutorial can be found here\n",
      "Godot 4.3 also includes an experimental new engine called \"Godot Engine\". You can use it in your projects, or as a feature in a feature-packed game, to create, test and debug your features. As this project grows, so will your code. We encourage you to contribute your contributions to the Godot Engine project. You can do so by contributing our code and a new feature, or simply by contributing code to Godot Engine with the command line tool 'git clone git@github.com/godotengine/godotengine-3.git' . We also encourage you to contribute feature-packed games that are small, feature-inclusive, easy to develop, fun, and can run without an interpreter, as well as feature-packed languages like C and C++. In particular, we offer a tutorial to help developers learn how to write code with Godot's powerful API. Finally, if you find that you are using Godot to write new programs, there are tutorials on Godot-specific projects, like our `Godot-Unity` project.\n",
      "You can view our official Godot Engine documentation and the Godot wiki at `godotengine.org/wiki`!\n",
      "Godot 4.3 released February 18, 2018. We are currently supporting Godot 4.3 through the release of Godot Engine for Windows. This project is part of a larger project, Godot 4.2. Godot engine also has a new documentation and the Godot Engine Wiki on the wiki. [Godot-2.0.1](https://docs.godotengine.org/en/stable/getting_started/godot_engine_guide/getting_started_with_godot_engine_guide.html)[\\n] [Godot-2.0.2](https://docs.godotengine.org/en/stable/getting_started/godot_engine_guide/getting_started_with_godot_engine_guide.html)[\\n] Godot 4.2 also features a new editor, named Godot_Script, to help developers write new scripts. It introduces the `editor` interface, allows to use Godot code inside the editor, and also provides a full support for the `Editor` interface in\n"
     ]
    }
   ],
   "source": [
    "generate_text('What’s new in Godot 4.3 compared to previous versions?')"
   ]
  },
  {
   "cell_type": "markdown",
   "id": "1d486dc8",
   "metadata": {},
   "source": [
    "### 8.2: Can you explain the changes in the rendering pipeline introduced in Godot 4.3?"
   ]
  },
  {
   "cell_type": "code",
   "execution_count": 13,
   "id": "1ce642ff",
   "metadata": {},
   "outputs": [
    {
     "name": "stdout",
     "output_type": "stream",
     "text": [
      "Can you explain the changes in the rendering pipeline introduced in Godot 4.3?\n",
      "\n",
      "As you can see, the renderer is now a single pipeline with a single render method and no single object-oriented-style window. While we can change the rendering pipeline with any feature, the new, new-look editor is so powerful and easy to create. And unlike our \"Render with a single click\" or \"Render with HTML5\" models, we can draw objects in a lot less time, and we can quickly take them to new places in an editor.\n",
      "\n",
      "What's the big difference between Godot and other engine-based renderers?\n",
      "\n",
      "Godot 3 supports a broad set of renderers. You can view a list of our engine-specific renderers, or view the corresponding file in your project root. This documentation provides information on the specific features you can create, including the OpenGL-based renderer, the C#-based renderer, and more.\n",
      "\n",
      "What should you expect when you use Godot 3?\n",
      "\n",
      "Godot 3 is a powerful new editor and is very well integrated with your existing development environment. It will help you to write beautiful, well-designed applications in any language and on any platform. In fact, the editor itself is so powerful that it can be used on any computer, as long as you know how to make use of the most common languages to do so. In the future, if you have some time, you can add a new feature to the editor with Godot 3, making it accessible to all users with a new programming style or experience.\n",
      "\n",
      "Godot 3 is available from the project homepage, at the official Godot site. For more information on Godot 3, see the Godot wiki.\n",
      "\n",
      "Godot is open-source software that is used by more than one million developers worldwide. The source code of Godot is in the public domain. You can also open it online by contributing to the project, contributing on the official Godot blog, or by contributing in a contributing program using Godot's GitHub repository. Godot is also a free software project.\n",
      "\n",
      "Godot is currently in open beta and will make available to users as of June 30th, 2014. See the Godot documentation for more details about how to improve Godot's quality and compatibility.\n",
      "\n",
      "Godot is a free software project. You can find more information on contributing to Godot's stable software, and contributing documentation online. We're also on GitHub\n"
     ]
    }
   ],
   "source": [
    "generate_text('Can you explain the changes in the rendering pipeline introduced in Godot 4.3?')"
   ]
  },
  {
   "cell_type": "markdown",
   "id": "b02cc4aa",
   "metadata": {},
   "source": [
    "### 8.3: How do you implement a custom shader in Godot 4.3?"
   ]
  },
  {
   "cell_type": "code",
   "execution_count": 14,
   "id": "929f7d75",
   "metadata": {},
   "outputs": [
    {
     "name": "stdout",
     "output_type": "stream",
     "text": [
      "How do you implement a custom shader in Godot 4.3? First, check out this video series by Nathan van Sonder. It will teach you how to make the best use of your Godot engine.\n",
      "This one-shot introduction to Godot is the main point of the video series. It contains information about a few common concepts, and shows you how to take advantage of them to your game development goals.\n",
      "Godot has many of the characteristics that you need to build a high-level engine with. Most of them are easy to learn. They make your game better and more fun. They introduce an open source community, provide a quick tutorial, and encourage you to contribute. But, when you add features, you also get a lot of free time. You can learn more about Godot here: https://godotengine.org/en/docs/stable_and_improving_godot/index.html#doc-godot-engine).\n",
      "Godot is a popular tool for game engines. As an example, the GIMP engine offers thousands of features. You can write your own editor, add your own engine, build new games, and more. You can even use Godot's tools to make games on an open-source project!\n",
      "Godot allows you to write C# libraries or create games using existing code. There are even two new C# language features that can help you learn C# in an editor. You can write your own games using a C++ engine. You can add custom game engine-related code to an application to give it more features. The tutorials on this site are not exhaustive. You'll need to see at least some of the relevant programming concepts in order to understand the concepts and give you an idea of what they are like. Godot is not a comprehensive tool. You can read the full tutorials for a more thorough introduction to Godot.\n",
      "Godot offers you many advantages over other programming languages, such as C, C++, JavaScript and C#. You can add new features as you explore the language. In many cases, you will also be able to use scripting languages like C#, C++, C++11, C#, and C# editor features. The game engines also have many advanced features, such as new features for new games, new editor plugins, and much more. You can learn more about Godot here: https://godotengine.org/en/docs/stable_and_improving_godot\n"
     ]
    }
   ],
   "source": [
    "generate_text('How do you implement a custom shader in Godot 4.3?')"
   ]
  },
  {
   "cell_type": "markdown",
   "id": "7ac9ac84",
   "metadata": {},
   "source": [
    "### 8.4: What are the key differences between GDScript and C# in Godot 4.3?"
   ]
  },
  {
   "cell_type": "code",
   "execution_count": 15,
   "id": "261b30e5",
   "metadata": {},
   "outputs": [
    {
     "name": "stdout",
     "output_type": "stream",
     "text": [
      "What are the key differences between GDScript and C# in Godot 4.3?\n",
      "\n",
      "In Godot 4.3, you can have two files called editor.editor.xcodeplex and editor.xcodeplex. For each editor, you can select the file you want to view. For each editor, select a key, and then type the new key. For most examples, you can use the new key to edit the editor.\n",
      "\n",
      "The editor.xcodeplex file has four sections: the first part of the source code, the main source control file (FOU), and the editor.xcodeplex file contains all the variables you'll need to create the editor. You can find the file's documentation on the Godot 4.3 documentation website, or in a folder on your desktop. The Godot 4.3 source files contain a lot of information, so be sure to read the full documentation for the Godot documentation site before you do so.\n",
      "\n",
      "As with C#, you can have multiple editor. For instance, you can add as many as 20 new editor.xcodeplex files to a project, a file named editor.unitycloud.org, which contains the files needed to make it into Unity's editor. You can create as many as four file types: project.xcodeplex, project.unitycloud.org/features, and project.unitycloud.org/features/screenshot. [See the Godot 4.3 documentation to get started with Godot 4.3 with Unity's editor engine.]\n",
      "\n",
      "A new editor.unitycloud.org contains a lot of resources to help you create or extend Godot. You can use the editor to edit, delete, add, and replace your game engine and other parts of your game engine. If you need to extend a game engine, for example, you can use the editor to create an editor for a library, that gives you features that could be found in other programming languages. You can use the editor to make quick changes to your application in order to get to a certain step or feature. In other words, you can use a tool or system to make changes on the fly. The editor.unitycloud.org website also contains the most useful documentation on Godot, including a section dedicated to it.\n",
      "\n",
      "What does Godot do?\n",
      "\n",
      "Godot is a game engine written in C# and JavaScript, and developed by developers in Unity, along with a host of\n"
     ]
    }
   ],
   "source": [
    "generate_text('What are the key differences between GDScript and C# in Godot 4.3?')"
   ]
  },
  {
   "cell_type": "markdown",
   "id": "3796c883",
   "metadata": {},
   "source": [
    "### 8.5: How would you optimize a game for performance in Godot 4.3?"
   ]
  },
  {
   "cell_type": "code",
   "execution_count": 16,
   "id": "ebb12f17",
   "metadata": {},
   "outputs": [
    {
     "name": "stdout",
     "output_type": "stream",
     "text": [
      "How would you optimize a game for performance in Godot 4.3?\n",
      "**This is an open-source article **This is an open-source article is free and open source, so you can redistribute it and/or modify it under the terms of the Creative Commons Attribution License, which permits unrestricted use, distribution, and reproduction in any medium, provided the original work is properly cited.**\\nWe use the work from this article to help develop Godot 4.3, and to help improve the community as a whole. We also use the information provided here to help answer questions you may have, and other developers have asked before!**\\n-[docpath_of_project](https://docs.godotengine.org/en/stable/_images/assets/documents/noun_and_descriptive_descriptive.html#doc-noun-and-descriptive-descriptive-descriptive-descriptive)**\\n**This project is a volunteer project, and will be hosted exclusively at the Godot Engine. All contributors are welcome, and all contributions must comply with the Godot Code of Conduct. (This project requires two license types: Open Source licenses, such as the Godot License, or Source Code License. To support this program, please see our licensing page for more information.)\\n-[docpath_of_editor](https://docs.godotengine.org/en/stable/_images/assets/documents/noun_and_descriptive_descriptive.html#doc-noun-and-descriptive-descriptive-descriptive-noun)**\\nGodot editor is a Godot engine tool to make editing programs more efficient and consistent. You can create and run your code in any editor that supports the editor's built-in editor functions. You can also write programs or scripts as if you were writing them on a text editor. We have several editor features in Godot 2.\\nYou can also run your code using Godot commands, which are accessible via the top-level menu in the main window. A demo of the new Godot editor in action can be found on the Godot website.\\n-[docpath_of_godot](https://docs.godotengine.org/en/stable/_images/assets/documents/noun_and_descriptive_descriptive.html\n"
     ]
    }
   ],
   "source": [
    "generate_text('How would you optimize a game for performance in Godot 4.3?')"
   ]
  },
  {
   "cell_type": "markdown",
   "id": "e237c96e",
   "metadata": {},
   "source": [
    "### 8.6: Can you describe the process of creating a custom node in Godot 4.3?"
   ]
  },
  {
   "cell_type": "code",
   "execution_count": 17,
   "id": "dd6c423c",
   "metadata": {},
   "outputs": [
    {
     "name": "stdout",
     "output_type": "stream",
     "text": [
      "Can you describe the process of creating a custom node in Godot 4.3?\n",
      "\n",
      "The process of creating a custom node starts at your local development or build branch. After that, you'll find several tutorials and tutorials for it. For a complete article on using Godot in a project, we recommend this page: http://godot-doc.godotengine.org/en/getting_started/getting_started/.\n",
      "\n",
      "[](https://docs.godotengine.org/en/getting_started/getting_started/getting_started/nodes_and_scenes_and_scenes-introduction.html#doc-nodes_and_scenes-introduction)\n",
      "\n",
      "Creating the Scene\n",
      "\n",
      "Creating an event node is an important part of a project, but it also provides a lot of resources to the editor. To create an event, you need to provide it with two functions: the event call and its state. In general, you can think of it as \"the DOM\" for a project. In this tutorial, we'll see one scene, a button and a button handler.\n",
      "\n",
      "Let's start by showing you how to run the scene and its state using the command line:\n",
      "\n",
      "nodes.scene(\"/resources/main.js\") node .state.click( function () { $(\".resources/main.js\") node .state().text(\"Welcome to Godot!\\n\\nThis is where we will display the button!\\n\\n\\n\\nHello there!\") })\n",
      "\n",
      "The scene.com folder contains the main.js, node.state and button. The button handler will be on the left of the scene's parent node. The function will do the same thing, as the button will work just like the main node's, except the user input node will be placed inside the button's input node.\\n\n",
      "\n",
      "Finally, the button handler runs the scene's \"button\" or the \"actions\" node.\\n This is where the button will get a \"new\" button type, so we can use this to create a \"super-button\" with a special button type.\\n <div id=\"button1-button2\"> [(../../../nodes/main.js\") node .state.button(button1-button2)) <div class=\"button\"></div> [(../../nodes/button1.js\") node .state.button(button1-button\n"
     ]
    }
   ],
   "source": [
    "generate_text('Can you describe the process of creating a custom node in Godot 4.3?')"
   ]
  },
  {
   "cell_type": "markdown",
   "id": "918accd6",
   "metadata": {},
   "source": [
    "### 8.7: What are the new features in the animation system of Godot 4.3?"
   ]
  },
  {
   "cell_type": "code",
   "execution_count": 18,
   "id": "698f499a",
   "metadata": {},
   "outputs": [
    {
     "name": "stdout",
     "output_type": "stream",
     "text": [
      "What are the new features in the animation system of Godot 4.3? You can make all sorts of complex objects and animations within one step using Godot 4.3. Godot4.3 is no different, it provides a simple way to create complex features and animations. \"One of the biggest advantages of Godot is its rich API. It gives you the ability to take any tool and create powerful features. In this article we will introduce the API to you and help you design your first game with Godot.\", by G. David McRae-Gershon, 3D and 2D Senior Editor, Godot 4.3.1\n",
      "The first feature of Godot 4.3.1 is its ability to draw a grid in a 2D scene. Godot's built-in 3D editor allows you to drag and drop objects and scenes as you like. This will allow you to draw your game's grid directly to a tool like Unity! \"Godot's powerful engine allows you to program a lot more. It includes features like drawing 3D scenes, 3D editor, graphics library, and more. We are using this engine because Godot allows us to make games that have a powerful experience.\", by Jorge Molina, 3D and 2D Senior Editor, Godot 4.3.1\n",
      "The fourth feature in Godot 4.3.1 is its ability to make complex scenes as you like. You can program objects and scenes as you like using the Godot editor's built-in 3D editor. \"Godot's powerful engine allows you to draw a grid in a 2D scene. Godot's built-in 3D editor allows you to draw your game's grid directly to a tool like Unity!\", by G. David McRae-Gershon, 3D and 2D Senior Editor, Godot 4.3.2\n",
      "The fifth feature in Godot 4.3.2 is its ability to make complex scenes as you like. You can program objects and scenes as you like using the Godot editor's built-in 3D editor. \"Godot's powerful engine allows you to draw a grid in a 2D scene. Godot's built-in 3D editor allows you to draw your game's grid directly to a tool like Unity!\", by G. David McRae-Gershon, 3D and 2D Senior Editor, Godot 4.3.3\n",
      "The sixth feature in Godot 4.3\n"
     ]
    }
   ],
   "source": [
    "generate_text('What are the new features in the animation system of Godot 4.3?')"
   ]
  },
  {
   "cell_type": "markdown",
   "id": "23fa8349",
   "metadata": {},
   "source": [
    "### 8.8: How do you handle input events in Godot 4.3?"
   ]
  },
  {
   "cell_type": "code",
   "execution_count": 19,
   "id": "92baae87",
   "metadata": {},
   "outputs": [
    {
     "name": "stdout",
     "output_type": "stream",
     "text": [
      "How do you handle input events in Godot 4.3?\n",
      "\n",
      "Input events are events from the Godot engine. You can interact with them using the \"input() function\" in your editor. Godot also provides a mechanism to interact directly with other engine commands. In particular, you can use Godot's \"Script editor\" to do most of the work in a single click! If Godot has a command-line interface, you can use that to interact directly with the engine! In any program, that's a good thing!\n",
      "\n",
      "In the Godot engine, you use Godot's \"Script editor\" to write many of Godot's functions. The \"Script Editor\" also allows you to create a menu that displays each script file. \"Script Editor\" can also have a special \"Script Editor Window\" where you can use any editor or window to run Godot's script.\n",
      "\n",
      "How do you write Godot code in C#?\n",
      "\n",
      "Godot uses C# for its scripting language and is based on the popular C# engine. It uses it as its engine engine and features a number of properties such as type and properties. With Godot's scripting engine, you can write your Godot code in the most idiomatic and expressive language possible. Godot can also write functions and functions inside its functions and classes. This is a great time to learn a new scripting language and to be able to write awesome code.\n",
      "\n",
      "Why did you create this website so long ago?\n",
      "\n",
      "Godot's scripting engine was always one of the first games to come from Unity. It's a free open-source project, with several open-source languages such as C#, C#++ and JavaScript. It's still evolving and new features like editor support are adding to the engine's beauty.\n",
      "\n",
      "Why has Godot made you so popular?\n",
      "\n",
      "Godot is currently the number one game engine and the creator of a number of games! The engine is an entry point for countless gamers to learn programming and create beautiful games with Godot. It's a great way to learn programming, so be sure to check the official website for the best free or paid tutorials. Godot is a \"scripting engine\" as its code is written, so its code is fully free to use.\n",
      "\n",
      "Godot has been a well-established engine in the industry for more than a decade. Godot's popularity began to increase in the last five years, and a popular game engine has gained popularity in the\n"
     ]
    }
   ],
   "source": [
    "generate_text('How do you handle input events in Godot 4.3?')"
   ]
  },
  {
   "cell_type": "markdown",
   "id": "d8eabb1f",
   "metadata": {},
   "source": [
    "### 8.9: What are the best practices for using the new navigation system in Godot 4.3?"
   ]
  },
  {
   "cell_type": "code",
   "execution_count": 20,
   "id": "71df32a1",
   "metadata": {},
   "outputs": [
    {
     "name": "stdout",
     "output_type": "stream",
     "text": [
      "What are the best practices for using the new navigation system in Godot 4.3?\n",
      "\n",
      "The core design philosophy of Godot has always been very similar to that of previous games. In a previous Godot game, you would start with the basic object-oriented programming language, and you would develop a lot of components based on a single type.\n",
      "\n",
      "In Godot 3, you do not. Instead, you have to rely on the new engine engine to help you develop the concepts. This engine makes the interface more intuitive, more intuitive in a game that can handle thousands of complex concepts. In Godot 3, you can now write your own custom editor.\n",
      "\n",
      "In addition, in Godot 2, Godot 2 will support the much-improved editor system and engine called GodotEdit. It allows you to customize much more your editor's parts without having to use Godot's third-party programming language. With GodotEdit, you can add the ability to create custom text editor with just a single click! In addition, GodotEdit allows you to create your own custom text editor with just a few clicks, too!\n",
      "\n",
      "How will Godot 3 differ from previous Godot games?\n",
      "\n",
      "Godot 3 is also much more user-friendly. You can work with a keyboard as you would with previous games, or with the new editor, so that you can easily change the game's geometry with your thumb or the arrow key! The user interface is also much more robust; you can use the new interface to make your game look and feel better! You can drag and drop objects from the game world directly and save them!\n",
      "\n",
      "What will Godot 3 do for you?\n",
      "\n",
      "In Godot 3, you can play with other players using the Godot engine. This allows you to share your game's content with other people or to draw on other screens. With Godot3 you can share your game as your own project on the Internet, anywhere, on your desktop or on any browser. The system will also have more features to meet your tastes and needs.\n",
      "\n",
      "What is Godot's newest feature?\n",
      "\n",
      "Godot 3 introduces several new features. We know many of them will be new to you!\n",
      "\n",
      "The feature-complete editor. With Godot 3, you can create your own editor with a single click. You can add many new concepts, create new projects, and add new editor features like text editors, cross-platform scripting and new scene editing. And, with\n"
     ]
    }
   ],
   "source": [
    "generate_text('What are the best practices for using the new navigation system in Godot 4.3?')"
   ]
  },
  {
   "cell_type": "markdown",
   "id": "6f53da02",
   "metadata": {},
   "source": [
    "### 8.10: Can you walk me through setting up a multiplayer game in Godot 4.3?"
   ]
  },
  {
   "cell_type": "code",
   "execution_count": 21,
   "id": "d89b67cd",
   "metadata": {},
   "outputs": [
    {
     "name": "stdout",
     "output_type": "stream",
     "text": [
      "Can you walk me through setting up a multiplayer game in Godot 4.3? [How's this new engine looking for me?] [What's the game about?](https://docs.godotengine.org/en/stable/_images/d_images/d_game_3.png) [A tutorial to learn to use Unity in Unity.](https://docs.godotengine.org/en/stable/_images/d_scene_0.png) [What are your best friends in Godot 4?](https://docs.godotengine.org/en/stable/_images/d_scene_1.png) [What's the best part about a game in Godot 4.0?] [How can I learn a new engine?] [How much can we make in Godot 4?](https://docs.godotengine.org/en/stable/_images/d_scene_2.png) [What is my best friend?](https://docs.godotengine.org/en/stable/_images/d_scene_3.png) [What's our main character?](https://docs.godotengine.org/en/stable/_images/d_scene_4.png) [Can I make my own character?](https://docs.godotengine.org/en/stable/_images/d_scene_5.png) [How can I create my own characters?](https://docs.godotengine.org/en/stable/_images/d_scene_6.png) [Are you using any other engines?](https://docs.godotengine.org/en/stable/_images/d_scene_7.png) [How can I teach new concepts in Unity?] [How do I interact with the camera?] [How do I draw a circle?](https://docs.godotengine.org/en/stable/_images/d_scene_8.png) [What makes a triangle?](https://docs.godotengine.org/en/stable/_images/d_scene_9.png) [How do I draw a rectangle?] [What is the most difficult part of building a game?](https://docs.godotengine.org/en/stable/_images/d_scene_10.png) [What's my best feature](https://docs.godotengine.org/en/stable/_images/d\n"
     ]
    }
   ],
   "source": [
    "generate_text('Can you walk me through setting up a multiplayer game in Godot 4.3?')"
   ]
  },
  {
   "cell_type": "markdown",
   "id": "83173897",
   "metadata": {},
   "source": [
    "### 8.11: How can I use C# to create a procedurally generated 3D chunk in a node in Godot 4.3 on its own?"
   ]
  },
  {
   "cell_type": "code",
   "execution_count": 22,
   "id": "c2121bf0",
   "metadata": {},
   "outputs": [
    {
     "name": "stdout",
     "output_type": "stream",
     "text": [
      "How can I use C# to create a procedurally generated 3D chunk in a node in Godot 4.3 on its own? Well, let's get started!\\nIt's easy to program the code to programatically generate new chunks.\\nIn a folder called node_3D.psx, just open the editor. To add any new elements to the scene, select [Create a new scene](https://docs.godotengine.org/en/stable/_images/_creating_new_scene.png).\\nYou can then click on the new image to expand it to fit your game's editor.\\nBy default, the editor will open and show you a list of available elements. You can also save it as a file, which can be used to save your game to the cloud, or as a reference to a project.\\nIn Godot 4.3, you can open the editor with an arrow.\\nBy default, Godot will use the built-in \"Node.js\" compiler, which is also the name of the game engine.\\nIn the \"Scene Editor\", select [Start](https://docs.godotengine.org/en/stable/_images/_scripting-node-nodes/start).\\nIn the editor window, type [Start](https://docs.godotengine.org/en/stable/_images/_scripting_node-nodes/start.png) and press [Enter].\\nFinally, you can save your game or open it as a new object, using the [File > Save As](https://docs.godotengine.org/en/stable/_images/examples/save-as.png).\\n\\nWhen finished, you can export Godot to your local drive using the 'Save & Play...' menu.\\n<br/>\\nYou can find the Godot editor in the 'Tools > Library</div>\\nThe Godot editor also allows you to open files in a new window with the [Create a new window](https://docs.godotengine.org/en/stable/_images/create_new_window.png), which opens the editor within the file system.\\nGodot is available on Windows, Mac and Linux. Godot will also be available in the Godot development branch, and in the Godot development environment.\\nCopyright (C) 2009, 2007, 2014, 2017 by\n"
     ]
    }
   ],
   "source": [
    "generate_text('How can I use C# to create a procedurally generated 3D chunk in a node in Godot 4.3 on its own?')"
   ]
  },
  {
   "cell_type": "markdown",
   "id": "50ce28cb",
   "metadata": {},
   "source": [
    "### 8.12: How can I make nodes used as chunks, similar to minecraft, to store data in Godot 4.3 so that I can create a synchronous multiplayer world that can be hosted by 1 player, and have a second player connect?"
   ]
  },
  {
   "cell_type": "code",
   "execution_count": 23,
   "id": "abdc44aa",
   "metadata": {},
   "outputs": [
    {
     "name": "stdout",
     "output_type": "stream",
     "text": [
      "How can I make nodes used as chunks, similar to minecraft, to store data in Godot 4.3 so that I can create a synchronous multiplayer world that can be hosted by 1 player, and have a second player connect?\n",
      "**Note** [**1.1**] **Godot engine will not display a node as a node. You must first create a scene with the game engine and make sure that you have a scene's title, engine code, or a folder with all the node's data, and not only have the name \"tree_node\" set to the node's name.** **1.2** **You can make two nodes, using Godot's \"Node Maker\" command.** [**1.3**] **You can also create scenes using the \"Create Scene\" command.** [**2.1**] **The \"Create Scene\" command enables you to add multiple scenes at once. Create a scene using the command \"nodes_scene_create\" at the root of your scene window.** [**2.2**] **If you need a more advanced view of the scene's world, you can drag and drop the scenes you want to create.** [**3.1**] **To create a new scene, create a new node, right click, and select \"New Node...\".** [**3.2**] **Choose a new node in the list of nodes.** [**3.3**] **If you need more advanced view of the world, you can drag and drop the scenes you want to create.** [**3.4**] **The \"Create Scene\" command allows you to add more scenes at once.** [**4.1**] **You can also create multiple scenes at once. You can create a scene with the \"Create Scene\" command at the root of your scene window.** [**4.2**] **The \"Create Scene\" command allows you to add more scenes at once.** [**4.3**] **You can also create multiple scenes at once. You can create a scene with the \"Create Scene\" command at the root of your scene window.** [**4.4**] **If you need a more advanced view of the world, you can drag and drop the scenes you want to create.** [**4.5**] **If you need more advanced view of the world, you can drag and drop the scenes you\n"
     ]
    }
   ],
   "source": [
    "generate_text('How can I make nodes used as chunks, similar to minecraft, to store data in Godot 4.3 so that I can create a synchronous multiplayer world that can be hosted by 1 player, and have a second player connect?')"
   ]
  },
  {
   "cell_type": "markdown",
   "id": "c0ed328c",
   "metadata": {},
   "source": [
    "### 8.13: In Godot 4.3, using C#, can you create 2D snake from scratch?"
   ]
  },
  {
   "cell_type": "code",
   "execution_count": 24,
   "id": "82e73fc3",
   "metadata": {},
   "outputs": [
    {
     "name": "stdout",
     "output_type": "stream",
     "text": [
      "In Godot 4.3, using C#, can you create 2D snake from scratch? For starters, you need to know how to make a C# game engine: it is a tool with thousands of examples. You should know the fundamentals of C#, Java, C#, and Visual Basic so that you can get started. Another good place to start is the C# course at https://cshal.godotengine.org/. If you are interested in learning about C#, feel free to download it. You should also look at the tutorials linked on the right to go through them.\n",
      "\n",
      "\n",
      "You can find all of the tutorials on the Godot website, here . For more information about C#, see the Godot FAQ's: Godot Wiki | Godot Articles | Godot Help Forum or the Godot Help section.\n",
      "\n",
      "**Community** Godot is open source, the community is always open to help or contribute, so feel free to report bugs, feature requests, feature requests and support people who need a look at Godot's code. ​Community guidelines are available at http://godot.org/.​ [Godot Wiki](https://godot-wiki.godotengine.org/en/stable/documentation/community-guidelines-and-documents.html) If you find a bug or feature, you can contribute in the forum [godot-forum](https://godot-forum.godotengine.org/en/stable/list_of_articles/index.html) where you can list other bugs, feature requests, feature requests and support people who need a look at Godot's code. [Godot Wiki](https://godot-wiki.godotengine.org/en/stable/list_of_articles/index.html) is a special and comprehensive document providing tutorials and guides to help beginners. [Documentation](https://docs.godotengine.org/en/stable/documentation.html/index.html/index.html/doc/stable-documentation-en.html) is a great place for getting started on Godot's documentation. [Godot FAQ](https://godot-faq.godotengine.org/en/stable/documentation/godot-faq.html) is an excellent place for general information, answers to common questions and more. [Godot Help Forum](https://godot-help.godotengine.org/\n"
     ]
    }
   ],
   "source": [
    "generate_text('In Godot 4.3, using C#, can you create 2D snake from scratch?')"
   ]
  },
  {
   "cell_type": "markdown",
   "id": "63f64a03",
   "metadata": {},
   "source": [
    "# Review (Personal):\n",
    "\n",
    "- **Test 1:** 0/13 - 100% faliure on first run. I'm thinking I need to adjust ```train.txt``` to filter out useless rows. I think the contents wraps too close in each category. That might be why Training Loss was way too high. Cleaning the model folder, revamp of data to train on manually, then will run tests again.\n",
    "- **Test 2:** 0/13 - 100% failure again. Rethinking it, going to test with just the one section of the documentation manually as a training set. ```./train-minimised.txt``` is still too dirty to possibly have any good results.\n",
    "- **Test 3:** 2.5ish/13 - classing it as about 80% fail and just giving small points for some of the answer text. My training data was way too small in ```./train-manual.txt```"
   ]
  },
  {
   "cell_type": "code",
   "execution_count": null,
   "id": "63106b02",
   "metadata": {},
   "outputs": [],
   "source": []
  }
 ],
 "metadata": {
  "kernelspec": {
   "display_name": "Python 3 (ipykernel)",
   "language": "python",
   "name": "python3"
  },
  "language_info": {
   "codemirror_mode": {
    "name": "ipython",
    "version": 3
   },
   "file_extension": ".py",
   "mimetype": "text/x-python",
   "name": "python",
   "nbconvert_exporter": "python",
   "pygments_lexer": "ipython3",
   "version": "3.12.3"
  }
 },
 "nbformat": 4,
 "nbformat_minor": 5
}
