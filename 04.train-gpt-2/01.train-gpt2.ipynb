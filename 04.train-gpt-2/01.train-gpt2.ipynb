{
 "cells": [
  {
   "cell_type": "markdown",
   "id": "26bfaa05",
   "metadata": {},
   "source": [
    "# Version 1: Train GPT2\n",
    "\n",
    "## Plan:\n",
    "\n",
    "Train GPT2 on the text off of the **Godot 4.3** documentation for 5 epochs, then test the model.\n",
    "\n",
    "### System Used\n",
    "\n",
    "This was done on older desktop hardware. Windows 10, WSL Ubuntu 22.04, i7 processor, Radeon 3050 8Gb OC, 16Gb RAM.\n",
    "\n",
    "### Warning:\n",
    "\n",
    "**Things are changing regularly, and you will see warnings (if this still runs), mostly to do with deprecation. This means, eventually, one day this code will need changes/updates/rewrites.**"
   ]
  },
  {
   "cell_type": "markdown",
   "id": "01a606dc",
   "metadata": {},
   "source": [
    "### Base Code Use\n",
    "\n",
    "Used as a starter: [311_fine_tuning_GPT2.ipynb](https://github.com/bnsreenu/python_for_microscopists/blob/master/311_fine_tuning_GPT2.ipynb)\n",
    "\n",
    "Note: ```--break-system-packages``` is required for my customised WSL2 instance."
   ]
  },
  {
   "cell_type": "markdown",
   "id": "d0f908c5",
   "metadata": {},
   "source": [
    "## Step 1: Packages"
   ]
  },
  {
   "cell_type": "code",
   "execution_count": null,
   "id": "d149e552",
   "metadata": {},
   "outputs": [],
   "source": [
    "!pip install -q transformers torch datasets python-docx --break-system-packages"
   ]
  },
  {
   "cell_type": "code",
   "execution_count": null,
   "id": "027651a8",
   "metadata": {},
   "outputs": [],
   "source": [
    "!pip install -qU PyPDF2 --break-system-packages"
   ]
  },
  {
   "cell_type": "code",
   "execution_count": 1,
   "id": "3aad854a",
   "metadata": {},
   "outputs": [],
   "source": [
    "import pandas as pd\n",
    "import numpy as np\n",
    "import re\n",
    "from PyPDF2 import PdfReader\n",
    "import os\n",
    "import docx"
   ]
  },
  {
   "cell_type": "markdown",
   "id": "50e16ec5",
   "metadata": {},
   "source": [
    "## Step 2: Define file text extract"
   ]
  },
  {
   "cell_type": "code",
   "execution_count": null,
   "id": "66c27c9e",
   "metadata": {},
   "outputs": [],
   "source": [
    "# Functions to read different file types\n",
    "def read_pdf(file_path):\n",
    "    with open(file_path, \"rb\") as file:\n",
    "        pdf_reader = PdfReader(file)\n",
    "        text = \"\"\n",
    "        for page_num in range(len(pdf_reader.pages)):\n",
    "            text += pdf_reader.pages[page_num].extract_text()\n",
    "    return text\n",
    "\n",
    "def read_word(file_path):\n",
    "    doc = docx.Document(file_path)\n",
    "    text = \"\"\n",
    "    for paragraph in doc.paragraphs:\n",
    "        text += paragraph.text + \"\\n\"\n",
    "    return text\n",
    "\n",
    "def read_txt(file_path):\n",
    "    with open(file_path, \"r\") as file:\n",
    "        text = file.read()\n",
    "    return text\n",
    "\n",
    "def read_documents_from_directory(directory):\n",
    "    combined_text = \"\"\n",
    "    for filename in os.listdir(directory):\n",
    "        file_path = os.path.join(directory, filename)\n",
    "        if filename.endswith(\".pdf\"):\n",
    "            combined_text += read_pdf(file_path)\n",
    "        elif filename.endswith(\".docx\"):\n",
    "            combined_text += read_word(file_path)\n",
    "        elif filename.endswith(\".txt\"):\n",
    "            combined_text += read_txt(file_path)\n",
    "    return combined_text"
   ]
  },
  {
   "cell_type": "markdown",
   "id": "924b4b52",
   "metadata": {},
   "source": [
    "## Step 3: Prepare text Godot 4.3 Text (sample version)"
   ]
  },
  {
   "cell_type": "markdown",
   "id": "84a84528",
   "metadata": {},
   "source": [
    "Got ```godot-docs``` through ```https://docs.godotengine.org/en/stable/index.html``` using the ```stable``` variety. As of today it's ```319mb```.\n",
    "\n",
    "Extract contents into ```godot-docs-html-stable``` then run below to extract data from the html (dirty formatting for v1).\n",
    "\n",
    "**Time Required:** ~4min"
   ]
  },
  {
   "cell_type": "code",
   "execution_count": null,
   "id": "f29422bb",
   "metadata": {},
   "outputs": [],
   "source": [
    "%%time\n",
    "# Convert html files recursively into txt files without format\n",
    "import os\n",
    "from bs4 import BeautifulSoup\n",
    "\n",
    "def convert_html_to_txt(html_file_path, txt_file_path):\n",
    "    with open(html_file_path, 'r', encoding='utf-8') as html_file:\n",
    "        soup = BeautifulSoup(html_file, 'html.parser')\n",
    "        text = soup.get_text()\n",
    "        \n",
    "    with open(txt_file_path, 'w', encoding='utf-8') as txt_file:\n",
    "        txt_file.write(text)\n",
    "\n",
    "def process_folder(input_folder, output_folder):\n",
    "    if not os.path.exists(output_folder):\n",
    "        os.makedirs(output_folder)\n",
    "    \n",
    "    for root, _, files in os.walk(input_folder):\n",
    "        for file in files:\n",
    "            if file.endswith('.html'):\n",
    "                #print('processing:',file)\n",
    "                html_file_path = os.path.join(root, file)\n",
    "                relative_path = os.path.relpath(html_file_path, input_folder)\n",
    "                txt_file_path = os.path.join(output_folder, os.path.splitext(relative_path)[0] + '.txt')\n",
    "                splt_path = txt_file_path.split('/')\n",
    "                #print(splt_path[-1])\n",
    "                splt_path[-1] = splt_path[-2] + '-' + splt_path[-1]\n",
    "                convert_html_to_txt(html_file_path, output_folder + '/' + splt_path[-1])\n",
    "            else:\n",
    "                print(' - skipped:',file)\n",
    "\n",
    "input_folder = 'godot-docs-html-stable/tutorials'\n",
    "output_folder = 'godot-docs-text'\n",
    "\n",
    "process_folder(input_folder, output_folder)"
   ]
  },
  {
   "cell_type": "markdown",
   "id": "c7d3b610",
   "metadata": {},
   "source": [
    "## Step 4: Trim excess whitespace"
   ]
  },
  {
   "cell_type": "code",
   "execution_count": null,
   "id": "40211931",
   "metadata": {},
   "outputs": [],
   "source": [
    "# Read documents from the directory\n",
    "train_directory = output_folder\n",
    "text_data = read_documents_from_directory(train_directory)\n",
    "text_data = re.sub(r'\\n+', '\\n', text_data).strip()  # Remove excess newline characters"
   ]
  },
  {
   "cell_type": "code",
   "execution_count": null,
   "id": "3901927c",
   "metadata": {},
   "outputs": [],
   "source": [
    "print(text_data[0:200],'...')"
   ]
  },
  {
   "cell_type": "markdown",
   "id": "c4d5404f",
   "metadata": {},
   "source": [
    "*Uncomment this with train.txt removed to write a new train.txt*"
   ]
  },
  {
   "cell_type": "code",
   "execution_count": null,
   "id": "c79a5a14",
   "metadata": {},
   "outputs": [],
   "source": [
    "## Only needed once off if you have the data\n",
    "#with open(\"./train.txt\", \"w\") as f:\n",
    "#    f.write(text_data)"
   ]
  },
  {
   "cell_type": "markdown",
   "id": "67aea904",
   "metadata": {},
   "source": [
    "### 4.1: Minimised train.txt"
   ]
  },
  {
   "cell_type": "code",
   "execution_count": 2,
   "id": "176bcf69",
   "metadata": {},
   "outputs": [],
   "source": [
    "def filter_lines(input_file, output_file):\n",
    "    with open(input_file, 'r') as file:\n",
    "        lines = file.readlines()\n",
    "\n",
    "    with open(output_file, 'w') as file:\n",
    "        for line in lines:\n",
    "            if len(line.strip()) > 30:\n",
    "                file.write(line)\n",
    "\n",
    "# Example usage\n",
    "input_file = 'train.txt'\n",
    "output_file = 'train-minimised.txt'\n",
    "filter_lines(input_file, output_file)"
   ]
  },
  {
   "cell_type": "markdown",
   "id": "32cda56b",
   "metadata": {},
   "source": [
    "## Step 5: Setup training functions"
   ]
  },
  {
   "cell_type": "code",
   "execution_count": 3,
   "id": "2055e925",
   "metadata": {},
   "outputs": [
    {
     "name": "stderr",
     "output_type": "stream",
     "text": [
      "2024-10-06 12:53:47.279453: E external/local_xla/xla/stream_executor/cuda/cuda_fft.cc:485] Unable to register cuFFT factory: Attempting to register factory for plugin cuFFT when one has already been registered\n",
      "2024-10-06 12:53:47.295248: E external/local_xla/xla/stream_executor/cuda/cuda_dnn.cc:8454] Unable to register cuDNN factory: Attempting to register factory for plugin cuDNN when one has already been registered\n",
      "2024-10-06 12:53:47.299753: E external/local_xla/xla/stream_executor/cuda/cuda_blas.cc:1452] Unable to register cuBLAS factory: Attempting to register factory for plugin cuBLAS when one has already been registered\n",
      "2024-10-06 12:53:47.311171: I tensorflow/core/platform/cpu_feature_guard.cc:210] This TensorFlow binary is optimized to use available CPU instructions in performance-critical operations.\n",
      "To enable the following instructions: AVX2 FMA, in other operations, rebuild TensorFlow with the appropriate compiler flags.\n",
      "2024-10-06 12:53:48.500185: W tensorflow/compiler/tf2tensorrt/utils/py_utils.cc:38] TF-TRT Warning: Could not find TensorRT\n"
     ]
    }
   ],
   "source": [
    "from transformers import TextDataset, DataCollatorForLanguageModeling\n",
    "from transformers import GPT2Tokenizer, GPT2LMHeadModel\n",
    "from transformers import Trainer, TrainingArguments"
   ]
  },
  {
   "cell_type": "code",
   "execution_count": 4,
   "id": "69c89529",
   "metadata": {},
   "outputs": [],
   "source": [
    "def load_dataset(file_path, tokenizer, block_size = 128):\n",
    "    dataset = TextDataset(\n",
    "        tokenizer = tokenizer,\n",
    "        file_path = file_path,\n",
    "        block_size = block_size,\n",
    "    )\n",
    "    return dataset"
   ]
  },
  {
   "cell_type": "code",
   "execution_count": 5,
   "id": "2743bf39",
   "metadata": {},
   "outputs": [],
   "source": [
    "def load_data_collator(tokenizer, mlm = False):\n",
    "    data_collator = DataCollatorForLanguageModeling(\n",
    "        tokenizer=tokenizer, \n",
    "        mlm=mlm,\n",
    "    )\n",
    "    return data_collator"
   ]
  },
  {
   "cell_type": "code",
   "execution_count": 6,
   "id": "7ad2c44a",
   "metadata": {},
   "outputs": [],
   "source": [
    "def train(train_file_path,model_name,\n",
    "          output_dir,\n",
    "          overwrite_output_dir,\n",
    "          per_device_train_batch_size,\n",
    "          num_train_epochs,\n",
    "          save_steps):\n",
    "  tokenizer = GPT2Tokenizer.from_pretrained(model_name)\n",
    "  train_dataset = load_dataset(train_file_path, tokenizer)\n",
    "  data_collator = load_data_collator(tokenizer)\n",
    "\n",
    "  tokenizer.save_pretrained(output_dir)\n",
    "      \n",
    "  model = GPT2LMHeadModel.from_pretrained(model_name)\n",
    "\n",
    "  model.save_pretrained(output_dir)\n",
    "\n",
    "  training_args = TrainingArguments(\n",
    "          output_dir=output_dir,\n",
    "          overwrite_output_dir=overwrite_output_dir,\n",
    "          per_device_train_batch_size=per_device_train_batch_size,\n",
    "          num_train_epochs=num_train_epochs,\n",
    "      )\n",
    "\n",
    "  trainer = Trainer(\n",
    "          model=model,\n",
    "          args=training_args,\n",
    "          data_collator=data_collator,\n",
    "          train_dataset=train_dataset,\n",
    "  )\n",
    "      \n",
    "  trainer.train()\n",
    "  trainer.save_model()"
   ]
  },
  {
   "cell_type": "markdown",
   "id": "be68a8d4",
   "metadata": {},
   "source": [
    "## Step 6: Specify Training Arguments"
   ]
  },
  {
   "cell_type": "code",
   "execution_count": 7,
   "id": "b4647240",
   "metadata": {},
   "outputs": [],
   "source": [
    "train_file_path = \"./train-minimised.txt\"\n",
    "model_name = 'gpt2'\n",
    "output_dir = './model'\n",
    "overwrite_output_dir = False\n",
    "per_device_train_batch_size = 8\n",
    "num_train_epochs = 5.0\n",
    "save_steps = 50000"
   ]
  },
  {
   "cell_type": "markdown",
   "id": "d8b00751",
   "metadata": {},
   "source": [
    "#### Step 6.1: I didn't want to use WANDB, this is how you disable it:"
   ]
  },
  {
   "cell_type": "code",
   "execution_count": 8,
   "id": "d21d222e",
   "metadata": {},
   "outputs": [],
   "source": [
    "# I didn't want to use wandb\n",
    "os.environ['WANDB_DISABLED'] = 'true'"
   ]
  },
  {
   "cell_type": "markdown",
   "id": "858d1c3b",
   "metadata": {},
   "source": [
    "## Step 7: Run the training\n",
    "\n",
    "*Note: on my desktop the 5 epochs was what I felt like trying out, ~it shared it would take around 5 hours at the start~ the minimised data shared it would take 45 minutes.*\n",
    "\n",
    "Minimised data is super messy, I need to format training data way better. This will likely give hulucinations that are similar to what I'm looking for.\n",
    "\n",
    "Also used:\n",
    "\n",
    "- ```git lfs track \"*.safetensors\"```\n",
    "- ```git lfs track \"*.gguf\"```\n",
    "\n",
    "This was for a later stage if I want to upload them to my repo."
   ]
  },
  {
   "cell_type": "code",
   "execution_count": 9,
   "id": "94b9eb38",
   "metadata": {},
   "outputs": [
    {
     "name": "stderr",
     "output_type": "stream",
     "text": [
      "/home/edg3/.local/lib/python3.12/site-packages/transformers/data/datasets/language_modeling.py:53: FutureWarning: This dataset will be removed from the library soon, preprocessing should be handled with the 🤗 Datasets library. You can have a look at this example script for pointers: https://github.com/huggingface/transformers/blob/main/examples/pytorch/language-modeling/run_mlm.py\n",
      "  warnings.warn(\n",
      "Using the `WANDB_DISABLED` environment variable is deprecated and will be removed in v5. Use the --report_to flag to control the integrations used for logging result (for instance --report_to none).\n"
     ]
    },
    {
     "data": {
      "text/html": [
       "\n",
       "    <div>\n",
       "      \n",
       "      <progress value='10095' max='10095' style='width:300px; height:20px; vertical-align: middle;'></progress>\n",
       "      [10095/10095 51:16, Epoch 5/5]\n",
       "    </div>\n",
       "    <table border=\"1\" class=\"dataframe\">\n",
       "  <thead>\n",
       " <tr style=\"text-align: left;\">\n",
       "      <th>Step</th>\n",
       "      <th>Training Loss</th>\n",
       "    </tr>\n",
       "  </thead>\n",
       "  <tbody>\n",
       "    <tr>\n",
       "      <td>500</td>\n",
       "      <td>1.539500</td>\n",
       "    </tr>\n",
       "    <tr>\n",
       "      <td>1000</td>\n",
       "      <td>0.964400</td>\n",
       "    </tr>\n",
       "    <tr>\n",
       "      <td>1500</td>\n",
       "      <td>0.950100</td>\n",
       "    </tr>\n",
       "    <tr>\n",
       "      <td>2000</td>\n",
       "      <td>0.886500</td>\n",
       "    </tr>\n",
       "    <tr>\n",
       "      <td>2500</td>\n",
       "      <td>0.857100</td>\n",
       "    </tr>\n",
       "    <tr>\n",
       "      <td>3000</td>\n",
       "      <td>0.815900</td>\n",
       "    </tr>\n",
       "    <tr>\n",
       "      <td>3500</td>\n",
       "      <td>0.815800</td>\n",
       "    </tr>\n",
       "    <tr>\n",
       "      <td>4000</td>\n",
       "      <td>0.804400</td>\n",
       "    </tr>\n",
       "    <tr>\n",
       "      <td>4500</td>\n",
       "      <td>0.760100</td>\n",
       "    </tr>\n",
       "    <tr>\n",
       "      <td>5000</td>\n",
       "      <td>0.750400</td>\n",
       "    </tr>\n",
       "    <tr>\n",
       "      <td>5500</td>\n",
       "      <td>0.758500</td>\n",
       "    </tr>\n",
       "    <tr>\n",
       "      <td>6000</td>\n",
       "      <td>0.753100</td>\n",
       "    </tr>\n",
       "    <tr>\n",
       "      <td>6500</td>\n",
       "      <td>0.705600</td>\n",
       "    </tr>\n",
       "    <tr>\n",
       "      <td>7000</td>\n",
       "      <td>0.699800</td>\n",
       "    </tr>\n",
       "    <tr>\n",
       "      <td>7500</td>\n",
       "      <td>0.715300</td>\n",
       "    </tr>\n",
       "    <tr>\n",
       "      <td>8000</td>\n",
       "      <td>0.723600</td>\n",
       "    </tr>\n",
       "    <tr>\n",
       "      <td>8500</td>\n",
       "      <td>0.695900</td>\n",
       "    </tr>\n",
       "    <tr>\n",
       "      <td>9000</td>\n",
       "      <td>0.663200</td>\n",
       "    </tr>\n",
       "    <tr>\n",
       "      <td>9500</td>\n",
       "      <td>0.693700</td>\n",
       "    </tr>\n",
       "    <tr>\n",
       "      <td>10000</td>\n",
       "      <td>0.682400</td>\n",
       "    </tr>\n",
       "  </tbody>\n",
       "</table><p>"
      ],
      "text/plain": [
       "<IPython.core.display.HTML object>"
      ]
     },
     "metadata": {},
     "output_type": "display_data"
    }
   ],
   "source": [
    "# Train\n",
    "train(\n",
    "    train_file_path=train_file_path,\n",
    "    model_name=model_name,\n",
    "    output_dir=output_dir,\n",
    "    overwrite_output_dir=overwrite_output_dir,\n",
    "    per_device_train_batch_size=per_device_train_batch_size,\n",
    "    num_train_epochs=num_train_epochs,\n",
    "    save_steps=save_steps\n",
    ")"
   ]
  },
  {
   "cell_type": "markdown",
   "id": "356d1b54",
   "metadata": {},
   "source": [
    "*Note: Kernel restart once here, then did Step 8. This was to free up GPU memory for the tests below.*"
   ]
  },
  {
   "cell_type": "markdown",
   "id": "fe86fd8e",
   "metadata": {},
   "source": [
    "## Step 8: Test The Model\n",
    "\n",
    "*Warning: This data isn't likely to give the style of answers we would love to have, but the plan is to test if the idea I'm working on will succeed, or not. If the answers below hint at it being possible,* **Version 2** *will follow this starting structure with my idea of a revamp.*"
   ]
  },
  {
   "cell_type": "code",
   "execution_count": 1,
   "id": "ba5092dc",
   "metadata": {},
   "outputs": [],
   "source": [
    "from transformers import PreTrainedTokenizerFast, GPT2LMHeadModel, GPT2TokenizerFast, GPT2Tokenizer"
   ]
  },
  {
   "cell_type": "code",
   "execution_count": 2,
   "id": "31960b00",
   "metadata": {},
   "outputs": [],
   "source": [
    "def load_model(model_path):\n",
    "    model = GPT2LMHeadModel.from_pretrained(model_path)\n",
    "    return model\n",
    "\n",
    "\n",
    "def load_tokenizer(tokenizer_path):\n",
    "    tokenizer = GPT2Tokenizer.from_pretrained(tokenizer_path)\n",
    "    return tokenizer\n",
    "\n",
    "model1_path = \"./model\"\n",
    "max_length = 512\n",
    "\n",
    "model = load_model(model1_path)\n",
    "tokenizer = load_tokenizer(model1_path)\n",
    "\n",
    "def generate_text(sequence):\n",
    "    ids = tokenizer.encode(f'{sequence}', return_tensors='pt')\n",
    "    final_outputs = model.generate(\n",
    "        ids,\n",
    "        do_sample=True,\n",
    "        max_length=max_length,\n",
    "        pad_token_id=model.config.eos_token_id,\n",
    "        top_k=50,\n",
    "        top_p=0.95,\n",
    "    )\n",
    "    print(tokenizer.decode(final_outputs[0], skip_special_tokens=True))"
   ]
  },
  {
   "cell_type": "code",
   "execution_count": 3,
   "id": "a2cfeb8b",
   "metadata": {},
   "outputs": [],
   "source": [
    "def Query(question1):\n",
    "    generate_text(model1_path)"
   ]
  },
  {
   "cell_type": "markdown",
   "id": "98b1bdd9",
   "metadata": {},
   "source": [
    "### 8.1: What’s new in Godot 4.3 compared to previous versions?"
   ]
  },
  {
   "cell_type": "code",
   "execution_count": 4,
   "id": "b9d0daaf",
   "metadata": {},
   "outputs": [
    {
     "name": "stderr",
     "output_type": "stream",
     "text": [
      "The attention mask is not set and cannot be inferred from input because pad token is same as eos token. As a consequence, you may observe unexpected behavior. Please pass your input's `attention_mask` to obtain reliable results.\n"
     ]
    },
    {
     "name": "stdout",
     "output_type": "stream",
     "text": [
      "What’s new in Godot 4.3 compared to previous versions?\n",
      "What do I need to know to use Godot?\n",
      "Learn in your browser with the GDScript app\n",
      "Overview of Godot's key concepts\n",
      "First look at Godot's interface\n",
      "Learning to think like a programmer\n",
      "Object-oriented design and composition\n",
      "The Godot editor is a Godot game\n",
      "Scene instances as a design language\n",
      "Connecting a signal in the editor\n",
      "Controlling physics interactions\n",
      "Applying object-oriented principles in Godot\n",
      "How to build relationships effectively\n",
      "When to use scenes versus scripts\n",
      "Performance of Script vs PackedScene\n",
      "Managing shared functionality or data\n",
      "When you should use an Autoload\n",
      "When and how to avoid using nodes for everything\n",
      "Accessing data or logic from an object\n",
      "_process vs. _physics_process vs. *_input\n",
      "_init vs. initialization vs. export\n",
      "_ready vs. _enter_tree vs. NOTIFICATION_PARENTED\n",
      "Array vs. Dictionary vs. Object\n",
      "AnimatedTexture vs. AnimatedSprite2D vs. AnimationPlayer vs. AnimationTree\n",
      "Adding nodes and changing properties: which first?\n",
      "Large levels: static vs. dynamic\n",
      "The editor runs slowly and uses all my CPU and GPU resources, making my computer noisy\n",
      "The editor stutters and flickers on my variable refresh rate monitor (G-Sync/FreeSync)\n",
      "The editor or project takes a very long time to start\n",
      "The Godot editor appears frozen after clicking the system console\n",
      "The Godot editor's macOS dock icon gets duplicated every time it is manually moved\n",
      "Some text such as \"NO DC\" appears in the top-left corner of the Project Manager and editor window\n",
      "A microphone or \"refresh\" icon appears in the bottom-right corner of the Project Manager and editor window\n",
      "The editor or project appears overly sharp or blurry\n",
      "The editor or project appears to have washed out colors\n",
      "The editor/project freezes or displays glitched visuals after resuming the PC from suspend\n",
      "The project works when run from the editor, but fails to load some files when running from an exported copy\n",
      "Creating and importing projects\n",
      "Downloading demos and templates\n",
      "Splitting the script or shader editor to its own window\n",
      "Using External Editor in Debugger\n",
      "Upgrading from Godot 3 to Godot 4\n",
      "Preparing before the upgrade (optional)\n",
      "Running the project upgrade tool\n",
      "Fixing the project after running the project upgrade tool\n",
      "Automatically renamed nodes\n"
     ]
    }
   ],
   "source": [
    "generate_text('What’s new in Godot 4.3 compared to previous versions?')"
   ]
  },
  {
   "cell_type": "markdown",
   "id": "8cbf8cb0",
   "metadata": {},
   "source": [
    "### 8.2: Can you explain the changes in the rendering pipeline introduced in Godot 4.3?"
   ]
  },
  {
   "cell_type": "code",
   "execution_count": 5,
   "id": "54921d14",
   "metadata": {},
   "outputs": [
    {
     "name": "stdout",
     "output_type": "stream",
     "text": [
      "Can you explain the changes in the rendering pipeline introduced in Godot 4.3?\n",
      "What are the criteria for compatibility across engine versions?\n",
      "What do I need to know to use Godot?\n",
      "Learn in your browser with the GDScript app\n",
      "Overview of Godot's key concepts\n",
      "First look at Godot's interface\n",
      "Learning to think like a programmer\n",
      "Object-oriented design and composition\n",
      "The Godot editor is a Godot game\n",
      "Scene instances as a design language\n",
      "Connecting a signal in the editor\n",
      "Controlling physics interactions\n",
      "Applying object-oriented principles in Godot\n",
      "How to build relationships effectively\n",
      "When to use scenes versus scripts\n",
      "Performance of Script vs PackedScene\n",
      "Managing shared functionality or data\n",
      "When you should use an Autoload\n",
      "When and how to avoid using nodes for everything\n",
      "Accessing data or logic from an object\n",
      "_process vs. _physics_process vs. *_input\n",
      "_init vs. initialization vs. export\n",
      "_ready vs. _enter_tree vs. NOTIFICATION_PARENTED\n",
      "Array vs. Dictionary vs. Object\n",
      "AnimatedTexture vs. AnimatedSprite2D vs. AnimationPlayer vs. AnimationTree\n",
      "Adding nodes and changing properties: which first?\n",
      "Large levels: static vs. dynamic\n",
      "The editor runs slowly and uses all my CPU and GPU resources, making my computer noisy\n",
      "The editor stutters and flickers on my variable refresh rate monitor (G-Sync/FreeSync)\n",
      "The editor or project takes a very long time to start\n",
      "The Godot editor appears frozen after clicking the system console\n",
      "The Godot editor's macOS dock icon gets duplicated every time it is manually moved\n",
      "Some text such as \"NO DC\" appears in the top-left corner of the Project Manager and editor window\n",
      "A microphone or \"refresh\" icon appears in the bottom-right corner of the Project Manager and editor window\n",
      "The editor or project appears overly sharp or blurry\n",
      "The editor or project appears to have washed out colors\n",
      "The editor/project freezes or displays glitched visuals after resuming the PC from suspend\n",
      "The project works when run from the editor, but fails to load some files when running from an exported copy\n",
      "Creating and importing projects\n",
      "Downloading demos and templates\n",
      "Splitting the script or shader editor to its own window\n",
      "Using External Editor in Debugger\n",
      "Upgrading from Godot 3 to Godot 4\n",
      "Preparing before the upgrade (optional)\n",
      "Running the project upgrade tool\n",
      "Fixing the\n"
     ]
    }
   ],
   "source": [
    "generate_text('Can you explain the changes in the rendering pipeline introduced in Godot 4.3?')"
   ]
  },
  {
   "cell_type": "markdown",
   "id": "48fefb0d",
   "metadata": {},
   "source": [
    "### 8.3: How do you implement a custom shader in Godot 4.3?"
   ]
  },
  {
   "cell_type": "code",
   "execution_count": 6,
   "id": "90e023a5",
   "metadata": {},
   "outputs": [
    {
     "name": "stdout",
     "output_type": "stream",
     "text": [
      "How do you implement a custom shader in Godot 4.3?\n",
      "What is GDScript and why should I use it?\n",
      "What were the motivations behind creating GDScript?\n",
      "What 3D model formats does Godot support?\n",
      "Will [insert closed SDK such as FMOD, GameWorks, etc.] be supported in Godot?\n",
      "How do I install the Godot editor on my system (for desktop integration)?\n",
      "Is the Godot editor a portable application?\n",
      "Why does Godot prioritize Vulkan and OpenGL over Direct3D?\n",
      "Why does Godot aim to keep its core feature set small?\n",
      "How should assets be created to handle multiple resolutions and aspect ratios?\n",
      "When is the next release of Godot out?\n",
      "Which Godot version should I use for a new project?\n",
      "Should I upgrade my project to use new Godot versions?\n",
      "I would like to contribute! How can I get started?\n",
      "I have a great idea for Godot. How can I share it?\n",
      "Is it possible to use Godot to create non-game applications?\n",
      "Is it possible to use Godot as a library?\n",
      "What user interface toolkit does Godot use?\n",
      "Why does Godot use the SCons build system?\n",
      "Why does Godot not use STL (Standard Template Library)?\n",
      "Why does Godot not use exceptions?\n",
      "Does Godot use an ECS (Entity Component System)?\n",
      "Why does Godot not force users to implement DOD (Data-Oriented Design)?\n",
      "How can I support Godot development or contribute?\n",
      "Who is working on Godot? How can I contact you?\n",
      "Which version should I use for a new project?\n",
      "Should I upgrade my project to use new Godot versions?\n",
      "What are the criteria for compatibility across engine versions?\n",
      "What do I need to know to use Godot?\n",
      "Learn in your browser with the GDScript app\n",
      "Overview of Godot's key concepts\n",
      "First look at Godot's interface\n",
      "Learning to think like a programmer\n",
      "Object-oriented design and composition\n",
      "The Godot editor is a Godot game\n",
      "Scene instances as a design language\n",
      "Connecting a signal in the editor\n",
      "Controlling physics interactions\n",
      "Applying object-oriented principles in Godot\n",
      "How to build relationships effectively\n",
      "When to use scenes versus scripts\n",
      "Performance of Script vs PackedScene\n",
      "Managing shared functionality or data\n",
      "When you should use an Autoload\n",
      "When and how to avoid using nodes for everything\n",
      "Accessing data or\n"
     ]
    }
   ],
   "source": [
    "generate_text('How do you implement a custom shader in Godot 4.3?')"
   ]
  },
  {
   "cell_type": "markdown",
   "id": "f521e98f",
   "metadata": {},
   "source": [
    "### 8.4: What are the key differences between GDScript and C# in Godot 4.3?"
   ]
  },
  {
   "cell_type": "code",
   "execution_count": 7,
   "id": "95bc289f",
   "metadata": {},
   "outputs": [
    {
     "name": "stdout",
     "output_type": "stream",
     "text": [
      "What are the key differences between GDScript and C# in Godot 4.3?\n",
      "What were the motivations behind creating GDScript?\n",
      "What 3D model formats does Godot support?\n",
      "Will [insert closed SDK such as FMOD, GameWorks, etc.] be supported in Godot?\n",
      "How do I install the Godot editor on my system (for desktop integration)?\n",
      "Is the Godot editor a portable application?\n",
      "Why does Godot prioritize Vulkan and OpenGL over Direct3D?\n",
      "Why does Godot aim to keep its core feature set small?\n",
      "How should assets be created to handle multiple resolutions and aspect ratios?\n",
      "When is the next release of Godot out?\n",
      "Which Godot version should I use for a new project?\n",
      "Should I upgrade my project to use new Godot versions?\n",
      "I would like to contribute! How can I get started?\n",
      "I have a great idea for Godot. How can I share it?\n",
      "Is it possible to use Godot to create non-game applications?\n",
      "Is it possible to use Godot as a library?\n",
      "What user interface toolkit does Godot use?\n",
      "Why does Godot use the SCons build system?\n",
      "Why does Godot not use STL (Standard Template Library)?\n",
      "Why does Godot not use exceptions?\n",
      "Does Godot use an ECS (Entity Component System)?\n",
      "Why does Godot not force users to implement DOD (Data-Oriented Design)?\n",
      "How can I support Godot development or contribute?\n",
      "Who is working on Godot? How can I contact you?\n",
      "Which version should I use for a new project?\n",
      "Should I upgrade my project to use new Godot versions?\n",
      "What are the criteria for compatibility across engine versions?\n",
      "What do I need to know to use Godot?\n",
      "Learn in your browser with the GDScript app\n",
      "Overview of Godot's key concepts\n",
      "First look at Godot's interface\n",
      "Learning to think like a programmer\n",
      "Object-oriented design and composition\n",
      "The Godot editor is a Godot game\n",
      "Scene instances as a design language\n",
      "Connecting a signal in the editor\n",
      "Controlling physics interactions\n",
      "Applying object-oriented principles in Godot\n",
      "How to build relationships effectively\n",
      "When to use scenes versus scripts\n",
      "Performance of Script vs PackedScene\n",
      "Managing shared functionality or data\n",
      "When you should use an Autoload\n",
      "When and how to avoid using nodes for everything\n",
      "Accessing data or logic from an object\n",
      "_process vs\n"
     ]
    }
   ],
   "source": [
    "generate_text('What are the key differences between GDScript and C# in Godot 4.3?')"
   ]
  },
  {
   "cell_type": "markdown",
   "id": "fc8334d9",
   "metadata": {},
   "source": [
    "### 8.5: How would you optimize a game for performance in Godot 4.3?"
   ]
  },
  {
   "cell_type": "code",
   "execution_count": 8,
   "id": "a1ea81c0",
   "metadata": {},
   "outputs": [
    {
     "ename": "KeyboardInterrupt",
     "evalue": "",
     "output_type": "error",
     "traceback": [
      "\u001b[0;31m---------------------------------------------------------------------------\u001b[0m",
      "\u001b[0;31mKeyboardInterrupt\u001b[0m                         Traceback (most recent call last)",
      "Cell \u001b[0;32mIn[8], line 1\u001b[0m\n\u001b[0;32m----> 1\u001b[0m \u001b[43mgenerate_text\u001b[49m\u001b[43m(\u001b[49m\u001b[38;5;124;43m'\u001b[39;49m\u001b[38;5;124;43mHow would you optimize a game for performance in Godot 4.3?\u001b[39;49m\u001b[38;5;124;43m'\u001b[39;49m\u001b[43m)\u001b[49m\n",
      "Cell \u001b[0;32mIn[2], line 18\u001b[0m, in \u001b[0;36mgenerate_text\u001b[0;34m(sequence)\u001b[0m\n\u001b[1;32m     16\u001b[0m \u001b[38;5;28;01mdef\u001b[39;00m \u001b[38;5;21mgenerate_text\u001b[39m(sequence):\n\u001b[1;32m     17\u001b[0m     ids \u001b[38;5;241m=\u001b[39m tokenizer\u001b[38;5;241m.\u001b[39mencode(\u001b[38;5;124mf\u001b[39m\u001b[38;5;124m'\u001b[39m\u001b[38;5;132;01m{\u001b[39;00msequence\u001b[38;5;132;01m}\u001b[39;00m\u001b[38;5;124m'\u001b[39m, return_tensors\u001b[38;5;241m=\u001b[39m\u001b[38;5;124m'\u001b[39m\u001b[38;5;124mpt\u001b[39m\u001b[38;5;124m'\u001b[39m)\n\u001b[0;32m---> 18\u001b[0m     final_outputs \u001b[38;5;241m=\u001b[39m \u001b[43mmodel\u001b[49m\u001b[38;5;241;43m.\u001b[39;49m\u001b[43mgenerate\u001b[49m\u001b[43m(\u001b[49m\n\u001b[1;32m     19\u001b[0m \u001b[43m        \u001b[49m\u001b[43mids\u001b[49m\u001b[43m,\u001b[49m\n\u001b[1;32m     20\u001b[0m \u001b[43m        \u001b[49m\u001b[43mdo_sample\u001b[49m\u001b[38;5;241;43m=\u001b[39;49m\u001b[38;5;28;43;01mTrue\u001b[39;49;00m\u001b[43m,\u001b[49m\n\u001b[1;32m     21\u001b[0m \u001b[43m        \u001b[49m\u001b[43mmax_length\u001b[49m\u001b[38;5;241;43m=\u001b[39;49m\u001b[43mmax_length\u001b[49m\u001b[43m,\u001b[49m\n\u001b[1;32m     22\u001b[0m \u001b[43m        \u001b[49m\u001b[43mpad_token_id\u001b[49m\u001b[38;5;241;43m=\u001b[39;49m\u001b[43mmodel\u001b[49m\u001b[38;5;241;43m.\u001b[39;49m\u001b[43mconfig\u001b[49m\u001b[38;5;241;43m.\u001b[39;49m\u001b[43meos_token_id\u001b[49m\u001b[43m,\u001b[49m\n\u001b[1;32m     23\u001b[0m \u001b[43m        \u001b[49m\u001b[43mtop_k\u001b[49m\u001b[38;5;241;43m=\u001b[39;49m\u001b[38;5;241;43m50\u001b[39;49m\u001b[43m,\u001b[49m\n\u001b[1;32m     24\u001b[0m \u001b[43m        \u001b[49m\u001b[43mtop_p\u001b[49m\u001b[38;5;241;43m=\u001b[39;49m\u001b[38;5;241;43m0.95\u001b[39;49m\u001b[43m,\u001b[49m\n\u001b[1;32m     25\u001b[0m \u001b[43m    \u001b[49m\u001b[43m)\u001b[49m\n\u001b[1;32m     26\u001b[0m     \u001b[38;5;28mprint\u001b[39m(tokenizer\u001b[38;5;241m.\u001b[39mdecode(final_outputs[\u001b[38;5;241m0\u001b[39m], skip_special_tokens\u001b[38;5;241m=\u001b[39m\u001b[38;5;28;01mTrue\u001b[39;00m))\n",
      "File \u001b[0;32m~/.local/lib/python3.12/site-packages/torch/utils/_contextlib.py:116\u001b[0m, in \u001b[0;36mcontext_decorator.<locals>.decorate_context\u001b[0;34m(*args, **kwargs)\u001b[0m\n\u001b[1;32m    113\u001b[0m \u001b[38;5;129m@functools\u001b[39m\u001b[38;5;241m.\u001b[39mwraps(func)\n\u001b[1;32m    114\u001b[0m \u001b[38;5;28;01mdef\u001b[39;00m \u001b[38;5;21mdecorate_context\u001b[39m(\u001b[38;5;241m*\u001b[39margs, \u001b[38;5;241m*\u001b[39m\u001b[38;5;241m*\u001b[39mkwargs):\n\u001b[1;32m    115\u001b[0m     \u001b[38;5;28;01mwith\u001b[39;00m ctx_factory():\n\u001b[0;32m--> 116\u001b[0m         \u001b[38;5;28;01mreturn\u001b[39;00m \u001b[43mfunc\u001b[49m\u001b[43m(\u001b[49m\u001b[38;5;241;43m*\u001b[39;49m\u001b[43margs\u001b[49m\u001b[43m,\u001b[49m\u001b[43m \u001b[49m\u001b[38;5;241;43m*\u001b[39;49m\u001b[38;5;241;43m*\u001b[39;49m\u001b[43mkwargs\u001b[49m\u001b[43m)\u001b[49m\n",
      "File \u001b[0;32m~/.local/lib/python3.12/site-packages/transformers/generation/utils.py:2142\u001b[0m, in \u001b[0;36mGenerationMixin.generate\u001b[0;34m(self, inputs, generation_config, logits_processor, stopping_criteria, prefix_allowed_tokens_fn, synced_gpus, assistant_model, streamer, negative_prompt_ids, negative_prompt_attention_mask, **kwargs)\u001b[0m\n\u001b[1;32m   2134\u001b[0m     input_ids, model_kwargs \u001b[38;5;241m=\u001b[39m \u001b[38;5;28mself\u001b[39m\u001b[38;5;241m.\u001b[39m_expand_inputs_for_generation(\n\u001b[1;32m   2135\u001b[0m         input_ids\u001b[38;5;241m=\u001b[39minput_ids,\n\u001b[1;32m   2136\u001b[0m         expand_size\u001b[38;5;241m=\u001b[39mgeneration_config\u001b[38;5;241m.\u001b[39mnum_return_sequences,\n\u001b[1;32m   2137\u001b[0m         is_encoder_decoder\u001b[38;5;241m=\u001b[39m\u001b[38;5;28mself\u001b[39m\u001b[38;5;241m.\u001b[39mconfig\u001b[38;5;241m.\u001b[39mis_encoder_decoder,\n\u001b[1;32m   2138\u001b[0m         \u001b[38;5;241m*\u001b[39m\u001b[38;5;241m*\u001b[39mmodel_kwargs,\n\u001b[1;32m   2139\u001b[0m     )\n\u001b[1;32m   2141\u001b[0m     \u001b[38;5;66;03m# 12. run sample (it degenerates to greedy search when `generation_config.do_sample=False`)\u001b[39;00m\n\u001b[0;32m-> 2142\u001b[0m     result \u001b[38;5;241m=\u001b[39m \u001b[38;5;28;43mself\u001b[39;49m\u001b[38;5;241;43m.\u001b[39;49m\u001b[43m_sample\u001b[49m\u001b[43m(\u001b[49m\n\u001b[1;32m   2143\u001b[0m \u001b[43m        \u001b[49m\u001b[43minput_ids\u001b[49m\u001b[43m,\u001b[49m\n\u001b[1;32m   2144\u001b[0m \u001b[43m        \u001b[49m\u001b[43mlogits_processor\u001b[49m\u001b[38;5;241;43m=\u001b[39;49m\u001b[43mprepared_logits_processor\u001b[49m\u001b[43m,\u001b[49m\n\u001b[1;32m   2145\u001b[0m \u001b[43m        \u001b[49m\u001b[43mstopping_criteria\u001b[49m\u001b[38;5;241;43m=\u001b[39;49m\u001b[43mprepared_stopping_criteria\u001b[49m\u001b[43m,\u001b[49m\n\u001b[1;32m   2146\u001b[0m \u001b[43m        \u001b[49m\u001b[43mgeneration_config\u001b[49m\u001b[38;5;241;43m=\u001b[39;49m\u001b[43mgeneration_config\u001b[49m\u001b[43m,\u001b[49m\n\u001b[1;32m   2147\u001b[0m \u001b[43m        \u001b[49m\u001b[43msynced_gpus\u001b[49m\u001b[38;5;241;43m=\u001b[39;49m\u001b[43msynced_gpus\u001b[49m\u001b[43m,\u001b[49m\n\u001b[1;32m   2148\u001b[0m \u001b[43m        \u001b[49m\u001b[43mstreamer\u001b[49m\u001b[38;5;241;43m=\u001b[39;49m\u001b[43mstreamer\u001b[49m\u001b[43m,\u001b[49m\n\u001b[1;32m   2149\u001b[0m \u001b[43m        \u001b[49m\u001b[38;5;241;43m*\u001b[39;49m\u001b[38;5;241;43m*\u001b[39;49m\u001b[43mmodel_kwargs\u001b[49m\u001b[43m,\u001b[49m\n\u001b[1;32m   2150\u001b[0m \u001b[43m    \u001b[49m\u001b[43m)\u001b[49m\n\u001b[1;32m   2152\u001b[0m \u001b[38;5;28;01melif\u001b[39;00m generation_mode \u001b[38;5;129;01min\u001b[39;00m (GenerationMode\u001b[38;5;241m.\u001b[39mBEAM_SAMPLE, GenerationMode\u001b[38;5;241m.\u001b[39mBEAM_SEARCH):\n\u001b[1;32m   2153\u001b[0m     \u001b[38;5;66;03m# 11. prepare beam search scorer\u001b[39;00m\n\u001b[1;32m   2154\u001b[0m     beam_scorer \u001b[38;5;241m=\u001b[39m BeamSearchScorer(\n\u001b[1;32m   2155\u001b[0m         batch_size\u001b[38;5;241m=\u001b[39mbatch_size,\n\u001b[1;32m   2156\u001b[0m         num_beams\u001b[38;5;241m=\u001b[39mgeneration_config\u001b[38;5;241m.\u001b[39mnum_beams,\n\u001b[0;32m   (...)\u001b[0m\n\u001b[1;32m   2161\u001b[0m         max_length\u001b[38;5;241m=\u001b[39mgeneration_config\u001b[38;5;241m.\u001b[39mmax_length,\n\u001b[1;32m   2162\u001b[0m     )\n",
      "File \u001b[0;32m~/.local/lib/python3.12/site-packages/transformers/generation/utils.py:3156\u001b[0m, in \u001b[0;36mGenerationMixin._sample\u001b[0;34m(self, input_ids, logits_processor, stopping_criteria, generation_config, synced_gpus, streamer, **model_kwargs)\u001b[0m\n\u001b[1;32m   3149\u001b[0m     streamer\u001b[38;5;241m.\u001b[39mput(next_tokens\u001b[38;5;241m.\u001b[39mcpu())\n\u001b[1;32m   3150\u001b[0m model_kwargs \u001b[38;5;241m=\u001b[39m \u001b[38;5;28mself\u001b[39m\u001b[38;5;241m.\u001b[39m_update_model_kwargs_for_generation(\n\u001b[1;32m   3151\u001b[0m     outputs,\n\u001b[1;32m   3152\u001b[0m     model_kwargs,\n\u001b[1;32m   3153\u001b[0m     is_encoder_decoder\u001b[38;5;241m=\u001b[39m\u001b[38;5;28mself\u001b[39m\u001b[38;5;241m.\u001b[39mconfig\u001b[38;5;241m.\u001b[39mis_encoder_decoder,\n\u001b[1;32m   3154\u001b[0m )\n\u001b[0;32m-> 3156\u001b[0m unfinished_sequences \u001b[38;5;241m=\u001b[39m unfinished_sequences \u001b[38;5;241m&\u001b[39m \u001b[38;5;241m~\u001b[39m\u001b[43mstopping_criteria\u001b[49m\u001b[43m(\u001b[49m\u001b[43minput_ids\u001b[49m\u001b[43m,\u001b[49m\u001b[43m \u001b[49m\u001b[43mscores\u001b[49m\u001b[43m)\u001b[49m\n\u001b[1;32m   3157\u001b[0m this_peer_finished \u001b[38;5;241m=\u001b[39m unfinished_sequences\u001b[38;5;241m.\u001b[39mmax() \u001b[38;5;241m==\u001b[39m \u001b[38;5;241m0\u001b[39m\n\u001b[1;32m   3158\u001b[0m cur_len \u001b[38;5;241m+\u001b[39m\u001b[38;5;241m=\u001b[39m \u001b[38;5;241m1\u001b[39m\n",
      "File \u001b[0;32m~/.local/lib/python3.12/site-packages/transformers/generation/stopping_criteria.py:496\u001b[0m, in \u001b[0;36mStoppingCriteriaList.__call__\u001b[0;34m(self, input_ids, scores, **kwargs)\u001b[0m\n\u001b[1;32m    494\u001b[0m is_done \u001b[38;5;241m=\u001b[39m torch\u001b[38;5;241m.\u001b[39mfull((input_ids\u001b[38;5;241m.\u001b[39mshape[\u001b[38;5;241m0\u001b[39m],), \u001b[38;5;28;01mFalse\u001b[39;00m, device\u001b[38;5;241m=\u001b[39minput_ids\u001b[38;5;241m.\u001b[39mdevice, dtype\u001b[38;5;241m=\u001b[39mtorch\u001b[38;5;241m.\u001b[39mbool)\n\u001b[1;32m    495\u001b[0m \u001b[38;5;28;01mfor\u001b[39;00m criteria \u001b[38;5;129;01min\u001b[39;00m \u001b[38;5;28mself\u001b[39m:\n\u001b[0;32m--> 496\u001b[0m     is_done \u001b[38;5;241m=\u001b[39m is_done \u001b[38;5;241m|\u001b[39m \u001b[43mcriteria\u001b[49m\u001b[43m(\u001b[49m\u001b[43minput_ids\u001b[49m\u001b[43m,\u001b[49m\u001b[43m \u001b[49m\u001b[43mscores\u001b[49m\u001b[43m,\u001b[49m\u001b[43m \u001b[49m\u001b[38;5;241;43m*\u001b[39;49m\u001b[38;5;241;43m*\u001b[39;49m\u001b[43mkwargs\u001b[49m\u001b[43m)\u001b[49m\n\u001b[1;32m    497\u001b[0m \u001b[38;5;28;01mreturn\u001b[39;00m is_done\n",
      "File \u001b[0;32m~/.local/lib/python3.12/site-packages/transformers/generation/stopping_criteria.py:466\u001b[0m, in \u001b[0;36mEosTokenCriteria.__call__\u001b[0;34m(self, input_ids, scores, **kwargs)\u001b[0m\n\u001b[1;32m    463\u001b[0m \u001b[38;5;129m@add_start_docstrings\u001b[39m(STOPPING_CRITERIA_INPUTS_DOCSTRING)\n\u001b[1;32m    464\u001b[0m \u001b[38;5;28;01mdef\u001b[39;00m \u001b[38;5;21m__call__\u001b[39m(\u001b[38;5;28mself\u001b[39m, input_ids: torch\u001b[38;5;241m.\u001b[39mLongTensor, scores: torch\u001b[38;5;241m.\u001b[39mFloatTensor, \u001b[38;5;241m*\u001b[39m\u001b[38;5;241m*\u001b[39mkwargs) \u001b[38;5;241m-\u001b[39m\u001b[38;5;241m>\u001b[39m torch\u001b[38;5;241m.\u001b[39mBoolTensor:\n\u001b[1;32m    465\u001b[0m     \u001b[38;5;28mself\u001b[39m\u001b[38;5;241m.\u001b[39meos_token_id \u001b[38;5;241m=\u001b[39m \u001b[38;5;28mself\u001b[39m\u001b[38;5;241m.\u001b[39meos_token_id\u001b[38;5;241m.\u001b[39mto(input_ids\u001b[38;5;241m.\u001b[39mdevice)\n\u001b[0;32m--> 466\u001b[0m     is_done \u001b[38;5;241m=\u001b[39m \u001b[43misin_mps_friendly\u001b[49m\u001b[43m(\u001b[49m\u001b[43minput_ids\u001b[49m\u001b[43m[\u001b[49m\u001b[43m:\u001b[49m\u001b[43m,\u001b[49m\u001b[43m \u001b[49m\u001b[38;5;241;43m-\u001b[39;49m\u001b[38;5;241;43m1\u001b[39;49m\u001b[43m]\u001b[49m\u001b[43m,\u001b[49m\u001b[43m \u001b[49m\u001b[38;5;28;43mself\u001b[39;49m\u001b[38;5;241;43m.\u001b[39;49m\u001b[43meos_token_id\u001b[49m\u001b[43m)\u001b[49m\n\u001b[1;32m    467\u001b[0m     \u001b[38;5;28;01mreturn\u001b[39;00m is_done\n",
      "File \u001b[0;32m~/.local/lib/python3.12/site-packages/transformers/pytorch_utils.py:328\u001b[0m, in \u001b[0;36misin_mps_friendly\u001b[0;34m(elements, test_elements)\u001b[0m\n\u001b[1;32m    325\u001b[0m     \u001b[38;5;28;01mreturn\u001b[39;00m elements\u001b[38;5;241m.\u001b[39mtile(test_elements\u001b[38;5;241m.\u001b[39mshape[\u001b[38;5;241m0\u001b[39m], \u001b[38;5;241m1\u001b[39m)\u001b[38;5;241m.\u001b[39meq(test_elements\u001b[38;5;241m.\u001b[39munsqueeze(\u001b[38;5;241m1\u001b[39m))\u001b[38;5;241m.\u001b[39msum(dim\u001b[38;5;241m=\u001b[39m\u001b[38;5;241m0\u001b[39m)\u001b[38;5;241m.\u001b[39mbool()\u001b[38;5;241m.\u001b[39msqueeze()\n\u001b[1;32m    326\u001b[0m \u001b[38;5;28;01melse\u001b[39;00m:\n\u001b[1;32m    327\u001b[0m     \u001b[38;5;66;03m# Note: don't use named arguments in `torch.isin`, see https://github.com/pytorch/pytorch/issues/126045\u001b[39;00m\n\u001b[0;32m--> 328\u001b[0m     \u001b[38;5;28;01mreturn\u001b[39;00m \u001b[43mtorch\u001b[49m\u001b[38;5;241;43m.\u001b[39;49m\u001b[43misin\u001b[49m\u001b[43m(\u001b[49m\u001b[43melements\u001b[49m\u001b[43m,\u001b[49m\u001b[43m \u001b[49m\u001b[43mtest_elements\u001b[49m\u001b[43m)\u001b[49m\n",
      "\u001b[0;31mKeyboardInterrupt\u001b[0m: "
     ]
    }
   ],
   "source": [
    "generate_text('How would you optimize a game for performance in Godot 4.3?')"
   ]
  },
  {
   "cell_type": "markdown",
   "id": "2ef95968",
   "metadata": {},
   "source": [
    "### 8.6: Can you describe the process of creating a custom node in Godot 4.3?"
   ]
  },
  {
   "cell_type": "code",
   "execution_count": null,
   "id": "1c5cce3f",
   "metadata": {},
   "outputs": [],
   "source": [
    "generate_text('Can you describe the process of creating a custom node in Godot 4.3?')"
   ]
  },
  {
   "cell_type": "markdown",
   "id": "37999e5a",
   "metadata": {},
   "source": [
    "### 8.7: What are the new features in the animation system of Godot 4.3?"
   ]
  },
  {
   "cell_type": "code",
   "execution_count": null,
   "id": "dffaa56a",
   "metadata": {},
   "outputs": [],
   "source": [
    "generate_text('What are the new features in the animation system of Godot 4.3?')"
   ]
  },
  {
   "cell_type": "markdown",
   "id": "76357de6",
   "metadata": {},
   "source": [
    "### 8.8: How do you handle input events in Godot 4.3?"
   ]
  },
  {
   "cell_type": "code",
   "execution_count": null,
   "id": "cf354fef",
   "metadata": {},
   "outputs": [],
   "source": [
    "generate_text('How do you handle input events in Godot 4.3?')"
   ]
  },
  {
   "cell_type": "markdown",
   "id": "29921e19",
   "metadata": {},
   "source": [
    "### 8.9: What are the best practices for using the new navigation system in Godot 4.3?"
   ]
  },
  {
   "cell_type": "code",
   "execution_count": null,
   "id": "e1de48d9",
   "metadata": {},
   "outputs": [],
   "source": [
    "generate_text('What are the best practices for using the new navigation system in Godot 4.3?')"
   ]
  },
  {
   "cell_type": "markdown",
   "id": "9935048f",
   "metadata": {},
   "source": [
    "### 8.10: Can you walk me through setting up a multiplayer game in Godot 4.3?"
   ]
  },
  {
   "cell_type": "code",
   "execution_count": null,
   "id": "adbb4d48",
   "metadata": {},
   "outputs": [],
   "source": [
    "generate_text('Can you walk me through setting up a multiplayer game in Godot 4.3?')"
   ]
  },
  {
   "cell_type": "markdown",
   "id": "3a4d362d",
   "metadata": {},
   "source": [
    "### 8.11: How can I use C# to create a procedurally generated 3D chunk in a node in Godot 4.3 on its own?"
   ]
  },
  {
   "cell_type": "code",
   "execution_count": null,
   "id": "1696a63c",
   "metadata": {},
   "outputs": [],
   "source": [
    "generate_text('How can I use C# to create a procedurally generated 3D chunk in a node in Godot 4.3 on its own?')"
   ]
  },
  {
   "cell_type": "markdown",
   "id": "055ad7a3",
   "metadata": {},
   "source": [
    "### 8.12: How can I make nodes used as chunks, similar to minecraft, to store data in Godot 4.3 so that I can create a synchronous multiplayer world that can be hosted by 1 player, and have a second player connect?"
   ]
  },
  {
   "cell_type": "code",
   "execution_count": null,
   "id": "2a2c295f",
   "metadata": {},
   "outputs": [],
   "source": [
    "generate_text('How can I make nodes used as chunks, similar to minecraft, to store data in Godot 4.3 so that I can create a synchronous multiplayer world that can be hosted by 1 player, and have a second player connect?')"
   ]
  },
  {
   "cell_type": "markdown",
   "id": "0d7c5595",
   "metadata": {},
   "source": [
    "### 8.13: In Godot 4.3, using C#, can you create 2D snake from scratch?"
   ]
  },
  {
   "cell_type": "code",
   "execution_count": null,
   "id": "2bb90a11",
   "metadata": {},
   "outputs": [],
   "source": [
    "generate_text('In Godot 4.3, using C#, can you create 2D snake from scratch?')"
   ]
  },
  {
   "cell_type": "markdown",
   "id": "c66121e7",
   "metadata": {},
   "source": [
    "# Review (Personal):\n",
    "\n",
    "- **Test 1:** 0/13 - 100% faliure on first run. I'm thinking I need to adjust ```train.txt``` to filter out useless rows. I think the contents wraps too close in each category. That might be why Training Loss was way too high. Cleaning the model folder, revamp of data to train on manually, then will run tests again.\n",
    "- **Test 2:** 0/13 - 100% failure again. Rethinking it, going to test with just the one section of the documentation manually as a training set. ```./train-minimised.txt``` is still too dirty to possibly have any good results."
   ]
  },
  {
   "cell_type": "code",
   "execution_count": null,
   "id": "31594770",
   "metadata": {},
   "outputs": [],
   "source": []
  }
 ],
 "metadata": {
  "kernelspec": {
   "display_name": "Python 3 (ipykernel)",
   "language": "python",
   "name": "python3"
  },
  "language_info": {
   "codemirror_mode": {
    "name": "ipython",
    "version": 3
   },
   "file_extension": ".py",
   "mimetype": "text/x-python",
   "name": "python",
   "nbconvert_exporter": "python",
   "pygments_lexer": "ipython3",
   "version": "3.12.3"
  }
 },
 "nbformat": 4,
 "nbformat_minor": 5
}
