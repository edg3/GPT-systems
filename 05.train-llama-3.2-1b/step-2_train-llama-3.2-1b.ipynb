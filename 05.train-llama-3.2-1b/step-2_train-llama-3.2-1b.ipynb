{
 "cells": [
  {
   "cell_type": "markdown",
   "id": "8904c166",
   "metadata": {},
   "source": [
    "# Training"
   ]
  },
  {
   "cell_type": "markdown",
   "id": "ffa5d377",
   "metadata": {},
   "source": [
    "## 1. Login to HuggingFace"
   ]
  },
  {
   "cell_type": "code",
   "execution_count": null,
   "id": "cc6619c3",
   "metadata": {},
   "outputs": [],
   "source": [
    "huggingface-cli login"
   ]
  },
  {
   "cell_type": "markdown",
   "id": "fbda7253",
   "metadata": {},
   "source": [
    "## 2. If you haven't done Prep Unsloth Local\n",
    "\n",
    "Run the pip installs required for your cersion of Unsloth\n",
    "\n",
    "ToDo: Moving this to unsloth, maybe?"
   ]
  },
  {
   "cell_type": "markdown",
   "id": "be0a7611",
   "metadata": {},
   "source": [
    "## 3. Clone the model you want to train\n",
    "\n",
    "Note, the model I've chosen requires permission to clone.\n",
    "\n",
    "Using:\n",
    "\n",
    "``meta-llama/Llama-3.2-1B``"
   ]
  },
  {
   "cell_type": "code",
   "execution_count": null,
   "id": "13db6125",
   "metadata": {},
   "outputs": [],
   "source": [
    "!git lfs install\n",
    "!git clone https://huggingface.co/meta-llama/Llama-3.2-1B"
   ]
  },
  {
   "cell_type": "markdown",
   "id": "fd6515f8",
   "metadata": {},
   "source": [
    "## 4. Load the Model Locally"
   ]
  },
  {
   "cell_type": "code",
   "execution_count": null,
   "id": "d907b6ae",
   "metadata": {},
   "outputs": [],
   "source": [
    "from transformers import AutoModelForCausalLM, AutoTokenizer\n",
    "\n",
    "model_name = \"Llama-3.2-1B\"\n",
    "tokenizer = AutoTokenizer.from_pretrained(model_name)\n",
    "model = AutoModelForCausalLM.from_pretrained(model_name)"
   ]
  },
  {
   "cell_type": "markdown",
   "id": "47b872b2",
   "metadata": {},
   "source": [
    "## 5. Load a Dataset Locally\n",
    "\n",
    "Note, version 1 I used an existing dataset:\n",
    "\n",
    "``tatsu-lab/alpaca``"
   ]
  },
  {
   "cell_type": "code",
   "execution_count": null,
   "id": "a5d1f1a2",
   "metadata": {},
   "outputs": [],
   "source": [
    "# todo: load dataset from cloned files\n",
    "from datasets import load_dataset\n",
    "\n",
    "dataset = load_dataset('csv', data_files='path/to/your/dataset.csv')"
   ]
  },
  {
   "cell_type": "markdown",
   "id": "1ca26ffe",
   "metadata": {},
   "source": [
    "## 6. Train the Model using the Dataset"
   ]
  },
  {
   "cell_type": "code",
   "execution_count": null,
   "id": "32914827",
   "metadata": {},
   "outputs": [],
   "source": [
    "from transformers import Trainer, TrainingArguments\n",
    "\n",
    "training_args = TrainingArguments(\n",
    "    output_dir='./results',\n",
    "    num_train_epochs=3,\n",
    "    per_device_train_batch_size=4,\n",
    "    save_steps=10_000,\n",
    "    save_total_limit=2,\n",
    ")\n",
    "\n",
    "trainer = Trainer(\n",
    "    model=model,\n",
    "    args=training_args,\n",
    "    train_dataset=dataset['train'],\n",
    ")\n",
    "\n",
    "trainer.train()"
   ]
  },
  {
   "cell_type": "markdown",
   "id": "1ff74b26",
   "metadata": {},
   "source": [
    "## 7. Save the Model as a SafeTensor"
   ]
  },
  {
   "cell_type": "code",
   "execution_count": null,
   "id": "6daf60fc",
   "metadata": {},
   "outputs": [],
   "source": [
    "import safetensors.torch\n",
    "\n",
    "safetensors.torch.save_file(\n",
    "    model.state_dict(), \n",
    "    'alpaca-llama-3.2-1b.safetensors'\n",
    ")"
   ]
  },
  {
   "cell_type": "markdown",
   "id": "8cb9e008",
   "metadata": {},
   "source": [
    "## 8. Load the SafeTensor"
   ]
  },
  {
   "cell_type": "code",
   "execution_count": null,
   "id": "50f4db43",
   "metadata": {},
   "outputs": [],
   "source": [
    "import safetensors.torch\n",
    "import torch\n",
    "from transformers import AutoModelForCausalLM, AutoTokenizer\n",
    "\n",
    "# Load the SafeTensor file\n",
    "model_path = 'alpaca-llama-3.2-1b.safetensors'\n",
    "state_dict = safetensors.torch.load_file(model_path)\n",
    "\n",
    "# Initialize the model and load the state dictionary\n",
    "model_name = \"alpaca-llama-3.2-1b\"\n",
    "model = AutoModelForCausalLM.from_pretrained(model_name)\n",
    "model.load_state_dict(state_dict)\n",
    "\n",
    "# Load the tokenizer\n",
    "tokenizer = AutoTokenizer.from_pretrained(model_name)"
   ]
  },
  {
   "cell_type": "markdown",
   "id": "158a10ac",
   "metadata": {},
   "source": [
    "## 9. Send a question to the model"
   ]
  },
  {
   "cell_type": "code",
   "execution_count": null,
   "id": "267a2e0c",
   "metadata": {},
   "outputs": [],
   "source": [
    "# Define your question\n",
    "question = \"If two people are carrying 3 bags of 2.32kg rice in each bag, \"\n",
    "    + \"what is the total weight of the rice they are carrying together?\"\n",
    "\n",
    "# Tokenize the input\n",
    "inputs = tokenizer(question, return_tensors=\"pt\")\n",
    "\n",
    "# Generate the response\n",
    "outputs = model.generate(**inputs)\n",
    "\n",
    "# Decode the response\n",
    "response = tokenizer.decode(outputs[0], skip_special_tokens=True)\n",
    "print(response)"
   ]
  }
 ],
 "metadata": {
  "kernelspec": {
   "display_name": "Python 3 (ipykernel)",
   "language": "python",
   "name": "python3"
  },
  "language_info": {
   "codemirror_mode": {
    "name": "ipython",
    "version": 3
   },
   "file_extension": ".py",
   "mimetype": "text/x-python",
   "name": "python",
   "nbconvert_exporter": "python",
   "pygments_lexer": "ipython3",
   "version": "3.12.3"
  }
 },
 "nbformat": 4,
 "nbformat_minor": 5
}
