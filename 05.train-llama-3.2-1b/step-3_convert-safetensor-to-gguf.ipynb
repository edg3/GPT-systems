{
 "cells": [
  {
   "cell_type": "markdown",
   "id": "79fbce9f",
   "metadata": {},
   "source": [
    "ToDo: Organise this more, also create models and content I want\n",
    "\n",
    "(I need to double check folders, files, names, etc. This was just a hasty code spit for starters)"
   ]
  },
  {
   "cell_type": "markdown",
   "id": "dce2e847",
   "metadata": {},
   "source": [
    "## 1. ToDo: SafeTensors upload"
   ]
  },
  {
   "cell_type": "code",
   "execution_count": null,
   "id": "9e45cabd",
   "metadata": {},
   "outputs": [],
   "source": [
    "huggingface-cli login"
   ]
  },
  {
   "cell_type": "code",
   "execution_count": null,
   "id": "6a95d026",
   "metadata": {},
   "outputs": [],
   "source": [
    "# ToDo"
   ]
  },
  {
   "cell_type": "markdown",
   "id": "b170b239",
   "metadata": {},
   "source": [
    "## 2. Convert to GGUF"
   ]
  },
  {
   "cell_type": "code",
   "execution_count": null,
   "id": "0858fcd8",
   "metadata": {},
   "outputs": [],
   "source": [
    "!git clone https://github.com/ggerganov/llama.cpp.git\n",
    "!pip install -r llama.cpp/requirements.txt"
   ]
  },
  {
   "cell_type": "code",
   "execution_count": null,
   "id": "14f3a6a7",
   "metadata": {},
   "outputs": [],
   "source": [
    "!python llama.cpp/convert.py --outtype f16 --ctx 4096 path/to/alpaca-llama-3.2-1b.safetensors --outfile alpaca-llama-3.2-1b.gguf"
   ]
  },
  {
   "cell_type": "markdown",
   "id": "df64fd7e",
   "metadata": {},
   "source": [
    "### 2.1. Upload GGUF"
   ]
  },
  {
   "cell_type": "code",
   "execution_count": null,
   "id": "eaf850a6",
   "metadata": {},
   "outputs": [],
   "source": [
    "from huggingface_hub import HfApi\n",
    "\n",
    "api = HfApi()\n",
    "model_id = \"your-username/alpaca-llama-3.2-1b-gguf\"\n",
    "\n",
    "# Create the repository if it doesn't exist\n",
    "api.create_repo(model_id, exist_ok=True, repo_type=\"model\")\n",
    "\n",
    "# Upload the GGUF file\n",
    "api.upload_file(\n",
    "    path_or_fileobj=\"path/to/alpaca-llama-3.2-1b.gguf\",\n",
    "    path_in_repo=\"alpaca-llama-3.2-1b.gguf\",\n",
    "    repo_id=model_id,\n",
    ")"
   ]
  }
 ],
 "metadata": {
  "kernelspec": {
   "display_name": "Python 3 (ipykernel)",
   "language": "python",
   "name": "python3"
  },
  "language_info": {
   "codemirror_mode": {
    "name": "ipython",
    "version": 3
   },
   "file_extension": ".py",
   "mimetype": "text/x-python",
   "name": "python",
   "nbconvert_exporter": "python",
   "pygments_lexer": "ipython3",
   "version": "3.12.3"
  }
 },
 "nbformat": 4,
 "nbformat_minor": 5
}
